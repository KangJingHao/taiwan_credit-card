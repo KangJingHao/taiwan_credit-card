{
 "cells": [
  {
   "cell_type": "code",
   "execution_count": 131,
   "metadata": {},
   "outputs": [],
   "source": [
    "import pandas as pd\n",
    "import numpy as np\n",
    "import matplotlib.pyplot as plt\n",
    "import seaborn as sns \n",
    "%matplotlib inline"
   ]
  },
  {
   "cell_type": "markdown",
   "metadata": {},
   "source": [
    "**ID：每個客戶的ID**\n",
    "\n",
    "**LIMIT_BAL限制餘額：以新台幣為單位的信用證金額（包括個人和家庭/補充信用證）**\n",
    "\n",
    "**性別：性別（1 =男性，2 =女性）**\n",
    "\n",
    "**教育教育：（1 =研究生院，2 =大學，3 =高中，4 =其他，5 =未知，6 =未知）**\n",
    "\n",
    "**MARRIAGE婚姻：婚姻狀況（1 =已婚，2 =單身，3 =其他）**\n",
    "\n",
    "**年齡：歲**\n",
    "\n",
    "**Pay_0：2005年9月還款情況（-2 =無消費，-1 =全額支付，0 =循環信用證的使用（僅支付最低金額），1 =一個月的付款延遲，2 =延遲付款兩個月，…8 =民主黨月的付款延遲，9 =九個月及以上的付款延遲）**\n",
    "\n",
    "**Pay_2：2005年8月還款情況（規模同上）**\n",
    "\n",
    "**Pay_3：2005年7月還款情況（規模同上）**\n",
    "\n",
    "**Pay_4：2005年6月還款情況（規模同上）**\n",
    "\n",
    "**pay_5：2005年5月還款情況（規模同上）**\n",
    "\n",
    "**Pay_6：2005年4月還款情況（規模同上）**\n",
    "\n",
    "**BILL_AMT1匯票金額1：2005年9月對賬單金額（新台幣）**\n",
    "\n",
    "**BILL_AMT2匯票金額2：2005年8月對賬單金額（新台幣）**\n",
    "\n",
    "**BILL_AMT3匯票金額3：2005年7月對賬單金額（新台幣）**\n",
    "\n",
    "**BILL_AMT4匯票金額4：2005年6月對賬單金額（新台幣）**\n",
    "\n",
    "**BILL_AMT5匯票金額5：2005年5月對賬單金額（新台幣）**\n",
    "\n",
    "**BILL_AMT6匯票金額6：2005年4月對賬單金額（新台幣）**\n",
    "\n",
    "**PAY_AMT1支付金額1：2005年9月以前支付金額（新台幣）**\n",
    "\n",
    "**PAY_AMT2支付金額2：2005年8月以前支付金額（新台幣）**\n",
    "\n",
    "**PAY_AMT3支付金額3：2005年7月以前支付金額（新台幣）**\n",
    "\n",
    "**PAY_AMT4支付金額4：2005年6月以前支付金額（新台幣）**\n",
    "\n",
    "**PAY_AMT5支付金額5：2005年5月以前支付金額（新台幣）**\n",
    "\n",
    "**PAY_AMT6支付金額6：2005年4月以前支付金額（新台幣）**\n",
    "\n",
    "**是否逾期違約金。下個月：（1 =是，0 =否）**"
   ]
  },
  {
   "cell_type": "code",
   "execution_count": 132,
   "metadata": {},
   "outputs": [],
   "source": [
    "df = pd.read_csv('UCI_Credit_Card.csv')\n",
    "df.columns = ['id','limit_bal','sex','education','marriage','age','pay_1','pay_2','pay_3','pay_4','pay_5','pay_6','bill_amt1','bill_amt2','bill_amt3','bill_amt4','bill_amt5','bill_amt6','pay_amt1','pay_amt2','pay_amt3','pay_amt4','pay_amt5','pay_amt6','next_month']"
   ]
  },
  {
   "cell_type": "code",
   "execution_count": 133,
   "metadata": {},
   "outputs": [
    {
     "name": "stdout",
     "output_type": "stream",
     "text": [
      "<class 'pandas.core.frame.DataFrame'>\n",
      "RangeIndex: 30000 entries, 0 to 29999\n",
      "Data columns (total 25 columns):\n",
      " #   Column      Non-Null Count  Dtype  \n",
      "---  ------      --------------  -----  \n",
      " 0   id          30000 non-null  int64  \n",
      " 1   limit_bal   30000 non-null  float64\n",
      " 2   sex         30000 non-null  int64  \n",
      " 3   education   30000 non-null  int64  \n",
      " 4   marriage    30000 non-null  int64  \n",
      " 5   age         30000 non-null  int64  \n",
      " 6   pay_1       30000 non-null  int64  \n",
      " 7   pay_2       30000 non-null  int64  \n",
      " 8   pay_3       30000 non-null  int64  \n",
      " 9   pay_4       30000 non-null  int64  \n",
      " 10  pay_5       30000 non-null  int64  \n",
      " 11  pay_6       30000 non-null  int64  \n",
      " 12  bill_amt1   30000 non-null  float64\n",
      " 13  bill_amt2   30000 non-null  float64\n",
      " 14  bill_amt3   30000 non-null  float64\n",
      " 15  bill_amt4   30000 non-null  float64\n",
      " 16  bill_amt5   30000 non-null  float64\n",
      " 17  bill_amt6   30000 non-null  float64\n",
      " 18  pay_amt1    30000 non-null  float64\n",
      " 19  pay_amt2    30000 non-null  float64\n",
      " 20  pay_amt3    30000 non-null  float64\n",
      " 21  pay_amt4    30000 non-null  float64\n",
      " 22  pay_amt5    30000 non-null  float64\n",
      " 23  pay_amt6    30000 non-null  float64\n",
      " 24  next_month  30000 non-null  int64  \n",
      "dtypes: float64(13), int64(12)\n",
      "memory usage: 5.7 MB\n"
     ]
    }
   ],
   "source": [
    "df.info()"
   ]
  },
  {
   "cell_type": "code",
   "execution_count": 134,
   "metadata": {},
   "outputs": [
    {
     "data": {
      "text/plain": [
       "id            0\n",
       "pay_amt5      0\n",
       "pay_amt4      0\n",
       "pay_amt3      0\n",
       "pay_amt2      0\n",
       "pay_amt1      0\n",
       "bill_amt6     0\n",
       "bill_amt5     0\n",
       "bill_amt4     0\n",
       "bill_amt3     0\n",
       "bill_amt2     0\n",
       "pay_amt6      0\n",
       "bill_amt1     0\n",
       "pay_5         0\n",
       "pay_4         0\n",
       "pay_3         0\n",
       "pay_2         0\n",
       "pay_1         0\n",
       "age           0\n",
       "marriage      0\n",
       "education     0\n",
       "sex           0\n",
       "limit_bal     0\n",
       "pay_6         0\n",
       "next_month    0\n",
       "dtype: int64"
      ]
     },
     "execution_count": 134,
     "metadata": {},
     "output_type": "execute_result"
    }
   ],
   "source": [
    "#可看到幾乎沒有缺失值的情況\n",
    "total_null = df.isnull().sum().sort_values(ascending=True)\n",
    "total_null"
   ]
  },
  {
   "cell_type": "code",
   "execution_count": 135,
   "metadata": {},
   "outputs": [
    {
     "data": {
      "text/html": [
       "<div>\n",
       "<style scoped>\n",
       "    .dataframe tbody tr th:only-of-type {\n",
       "        vertical-align: middle;\n",
       "    }\n",
       "\n",
       "    .dataframe tbody tr th {\n",
       "        vertical-align: top;\n",
       "    }\n",
       "\n",
       "    .dataframe thead th {\n",
       "        text-align: right;\n",
       "    }\n",
       "</style>\n",
       "<table border=\"1\" class=\"dataframe\">\n",
       "  <thead>\n",
       "    <tr style=\"text-align: right;\">\n",
       "      <th></th>\n",
       "      <th>id</th>\n",
       "      <th>limit_bal</th>\n",
       "      <th>sex</th>\n",
       "      <th>education</th>\n",
       "      <th>marriage</th>\n",
       "      <th>age</th>\n",
       "      <th>pay_1</th>\n",
       "      <th>pay_2</th>\n",
       "      <th>pay_3</th>\n",
       "      <th>pay_4</th>\n",
       "      <th>...</th>\n",
       "      <th>bill_amt4</th>\n",
       "      <th>bill_amt5</th>\n",
       "      <th>bill_amt6</th>\n",
       "      <th>pay_amt1</th>\n",
       "      <th>pay_amt2</th>\n",
       "      <th>pay_amt3</th>\n",
       "      <th>pay_amt4</th>\n",
       "      <th>pay_amt5</th>\n",
       "      <th>pay_amt6</th>\n",
       "      <th>next_month</th>\n",
       "    </tr>\n",
       "  </thead>\n",
       "  <tbody>\n",
       "    <tr>\n",
       "      <th>0</th>\n",
       "      <td>1</td>\n",
       "      <td>20000.0</td>\n",
       "      <td>2</td>\n",
       "      <td>2</td>\n",
       "      <td>1</td>\n",
       "      <td>24</td>\n",
       "      <td>2</td>\n",
       "      <td>2</td>\n",
       "      <td>-1</td>\n",
       "      <td>-1</td>\n",
       "      <td>...</td>\n",
       "      <td>0.0</td>\n",
       "      <td>0.0</td>\n",
       "      <td>0.0</td>\n",
       "      <td>0.0</td>\n",
       "      <td>689.0</td>\n",
       "      <td>0.0</td>\n",
       "      <td>0.0</td>\n",
       "      <td>0.0</td>\n",
       "      <td>0.0</td>\n",
       "      <td>1</td>\n",
       "    </tr>\n",
       "    <tr>\n",
       "      <th>1</th>\n",
       "      <td>2</td>\n",
       "      <td>120000.0</td>\n",
       "      <td>2</td>\n",
       "      <td>2</td>\n",
       "      <td>2</td>\n",
       "      <td>26</td>\n",
       "      <td>-1</td>\n",
       "      <td>2</td>\n",
       "      <td>0</td>\n",
       "      <td>0</td>\n",
       "      <td>...</td>\n",
       "      <td>3272.0</td>\n",
       "      <td>3455.0</td>\n",
       "      <td>3261.0</td>\n",
       "      <td>0.0</td>\n",
       "      <td>1000.0</td>\n",
       "      <td>1000.0</td>\n",
       "      <td>1000.0</td>\n",
       "      <td>0.0</td>\n",
       "      <td>2000.0</td>\n",
       "      <td>1</td>\n",
       "    </tr>\n",
       "    <tr>\n",
       "      <th>2</th>\n",
       "      <td>3</td>\n",
       "      <td>90000.0</td>\n",
       "      <td>2</td>\n",
       "      <td>2</td>\n",
       "      <td>2</td>\n",
       "      <td>34</td>\n",
       "      <td>0</td>\n",
       "      <td>0</td>\n",
       "      <td>0</td>\n",
       "      <td>0</td>\n",
       "      <td>...</td>\n",
       "      <td>14331.0</td>\n",
       "      <td>14948.0</td>\n",
       "      <td>15549.0</td>\n",
       "      <td>1518.0</td>\n",
       "      <td>1500.0</td>\n",
       "      <td>1000.0</td>\n",
       "      <td>1000.0</td>\n",
       "      <td>1000.0</td>\n",
       "      <td>5000.0</td>\n",
       "      <td>0</td>\n",
       "    </tr>\n",
       "    <tr>\n",
       "      <th>3</th>\n",
       "      <td>4</td>\n",
       "      <td>50000.0</td>\n",
       "      <td>2</td>\n",
       "      <td>2</td>\n",
       "      <td>1</td>\n",
       "      <td>37</td>\n",
       "      <td>0</td>\n",
       "      <td>0</td>\n",
       "      <td>0</td>\n",
       "      <td>0</td>\n",
       "      <td>...</td>\n",
       "      <td>28314.0</td>\n",
       "      <td>28959.0</td>\n",
       "      <td>29547.0</td>\n",
       "      <td>2000.0</td>\n",
       "      <td>2019.0</td>\n",
       "      <td>1200.0</td>\n",
       "      <td>1100.0</td>\n",
       "      <td>1069.0</td>\n",
       "      <td>1000.0</td>\n",
       "      <td>0</td>\n",
       "    </tr>\n",
       "    <tr>\n",
       "      <th>4</th>\n",
       "      <td>5</td>\n",
       "      <td>50000.0</td>\n",
       "      <td>1</td>\n",
       "      <td>2</td>\n",
       "      <td>1</td>\n",
       "      <td>57</td>\n",
       "      <td>-1</td>\n",
       "      <td>0</td>\n",
       "      <td>-1</td>\n",
       "      <td>0</td>\n",
       "      <td>...</td>\n",
       "      <td>20940.0</td>\n",
       "      <td>19146.0</td>\n",
       "      <td>19131.0</td>\n",
       "      <td>2000.0</td>\n",
       "      <td>36681.0</td>\n",
       "      <td>10000.0</td>\n",
       "      <td>9000.0</td>\n",
       "      <td>689.0</td>\n",
       "      <td>679.0</td>\n",
       "      <td>0</td>\n",
       "    </tr>\n",
       "  </tbody>\n",
       "</table>\n",
       "<p>5 rows × 25 columns</p>\n",
       "</div>"
      ],
      "text/plain": [
       "   id  limit_bal  sex  education  marriage  age  pay_1  pay_2  pay_3  pay_4  \\\n",
       "0   1    20000.0    2          2         1   24      2      2     -1     -1   \n",
       "1   2   120000.0    2          2         2   26     -1      2      0      0   \n",
       "2   3    90000.0    2          2         2   34      0      0      0      0   \n",
       "3   4    50000.0    2          2         1   37      0      0      0      0   \n",
       "4   5    50000.0    1          2         1   57     -1      0     -1      0   \n",
       "\n",
       "   ...  bill_amt4  bill_amt5  bill_amt6  pay_amt1  pay_amt2  pay_amt3  \\\n",
       "0  ...        0.0        0.0        0.0       0.0     689.0       0.0   \n",
       "1  ...     3272.0     3455.0     3261.0       0.0    1000.0    1000.0   \n",
       "2  ...    14331.0    14948.0    15549.0    1518.0    1500.0    1000.0   \n",
       "3  ...    28314.0    28959.0    29547.0    2000.0    2019.0    1200.0   \n",
       "4  ...    20940.0    19146.0    19131.0    2000.0   36681.0   10000.0   \n",
       "\n",
       "   pay_amt4  pay_amt5  pay_amt6  next_month  \n",
       "0       0.0       0.0       0.0           1  \n",
       "1    1000.0       0.0    2000.0           1  \n",
       "2    1000.0    1000.0    5000.0           0  \n",
       "3    1100.0    1069.0    1000.0           0  \n",
       "4    9000.0     689.0     679.0           0  \n",
       "\n",
       "[5 rows x 25 columns]"
      ]
     },
     "execution_count": 135,
     "metadata": {},
     "output_type": "execute_result"
    }
   ],
   "source": [
    "df.head()"
   ]
  },
  {
   "cell_type": "code",
   "execution_count": 136,
   "metadata": {},
   "outputs": [
    {
     "name": "stdout",
     "output_type": "stream",
     "text": [
      "sex[1, 2]\n",
      "education[0, 1, 2, 3, 4, 5, 6]\n",
      "marriage [0, 1, 2, 3]\n",
      "pay_1 [-2, -1, 0, 1, 2, 3, 4, 5, 6, 7, 8]\n",
      "next_month [0, 1]\n"
     ]
    }
   ],
   "source": [
    "print('sex' +str(sorted(df['sex'].unique())))\n",
    "print('education'+str(sorted(df['education'].unique())))\n",
    "print('marriage '+str(sorted(df['marriage'].unique())))\n",
    "print('pay_1 '+str(sorted(df['pay_1'].unique())))\n",
    "print('next_month '+str(sorted(df['next_month'].unique())))"
   ]
  },
  {
   "cell_type": "code",
   "execution_count": 137,
   "metadata": {},
   "outputs": [],
   "source": [
    "#由上述可看到education都被定義為其他將這些數字統一定義\n",
    "#marriage 也有0的數字與原先給的資訊不同，將他調整為其他\n",
    "#為何不昨刪除原因是此份檔案資料量本身就不大了，盡量能維持原狀不刪除就不會去做"
   ]
  },
  {
   "cell_type": "code",
   "execution_count": 138,
   "metadata": {},
   "outputs": [],
   "source": [
    "#將educaiton 不存在原始資料的內容改成 0 統一視為其他\n",
    "other_education = (df.education==0) |(df.education==4)|(df.education==5)|(df.education==6)\n",
    "df.loc[other_education,'education']=0"
   ]
  },
  {
   "cell_type": "code",
   "execution_count": 139,
   "metadata": {},
   "outputs": [],
   "source": [
    "#將marriage 不存在原始資料的內容改成 3 統一視為其他\n",
    "df.loc[df.marriage==0,'marriage']=3"
   ]
  },
  {
   "cell_type": "code",
   "execution_count": 140,
   "metadata": {},
   "outputs": [
    {
     "name": "stdout",
     "output_type": "stream",
     "text": [
      "education[0, 1, 2, 3]\n",
      "marriage [1, 2, 3]\n"
     ]
    }
   ],
   "source": [
    "print('education'+str(sorted(df['education'].unique())))\n",
    "print('marriage '+str(sorted(df['marriage'].unique())))"
   ]
  },
  {
   "cell_type": "code",
   "execution_count": 141,
   "metadata": {},
   "outputs": [
    {
     "data": {
      "text/html": [
       "<div>\n",
       "<style scoped>\n",
       "    .dataframe tbody tr th:only-of-type {\n",
       "        vertical-align: middle;\n",
       "    }\n",
       "\n",
       "    .dataframe tbody tr th {\n",
       "        vertical-align: top;\n",
       "    }\n",
       "\n",
       "    .dataframe thead th {\n",
       "        text-align: right;\n",
       "    }\n",
       "</style>\n",
       "<table border=\"1\" class=\"dataframe\">\n",
       "  <thead>\n",
       "    <tr style=\"text-align: right;\">\n",
       "      <th></th>\n",
       "      <th>count</th>\n",
       "      <th>mean</th>\n",
       "      <th>std</th>\n",
       "      <th>min</th>\n",
       "      <th>25%</th>\n",
       "      <th>50%</th>\n",
       "      <th>75%</th>\n",
       "      <th>max</th>\n",
       "    </tr>\n",
       "  </thead>\n",
       "  <tbody>\n",
       "    <tr>\n",
       "      <th>id</th>\n",
       "      <td>30000.0</td>\n",
       "      <td>15000.500000</td>\n",
       "      <td>8660.398374</td>\n",
       "      <td>1.0</td>\n",
       "      <td>7500.75</td>\n",
       "      <td>15000.5</td>\n",
       "      <td>22500.25</td>\n",
       "      <td>30000.0</td>\n",
       "    </tr>\n",
       "    <tr>\n",
       "      <th>limit_bal</th>\n",
       "      <td>30000.0</td>\n",
       "      <td>167484.322667</td>\n",
       "      <td>129747.661567</td>\n",
       "      <td>10000.0</td>\n",
       "      <td>50000.00</td>\n",
       "      <td>140000.0</td>\n",
       "      <td>240000.00</td>\n",
       "      <td>1000000.0</td>\n",
       "    </tr>\n",
       "    <tr>\n",
       "      <th>sex</th>\n",
       "      <td>30000.0</td>\n",
       "      <td>1.603733</td>\n",
       "      <td>0.489129</td>\n",
       "      <td>1.0</td>\n",
       "      <td>1.00</td>\n",
       "      <td>2.0</td>\n",
       "      <td>2.00</td>\n",
       "      <td>2.0</td>\n",
       "    </tr>\n",
       "    <tr>\n",
       "      <th>education</th>\n",
       "      <td>30000.0</td>\n",
       "      <td>1.779867</td>\n",
       "      <td>0.728486</td>\n",
       "      <td>0.0</td>\n",
       "      <td>1.00</td>\n",
       "      <td>2.0</td>\n",
       "      <td>2.00</td>\n",
       "      <td>3.0</td>\n",
       "    </tr>\n",
       "    <tr>\n",
       "      <th>marriage</th>\n",
       "      <td>30000.0</td>\n",
       "      <td>1.557267</td>\n",
       "      <td>0.521405</td>\n",
       "      <td>1.0</td>\n",
       "      <td>1.00</td>\n",
       "      <td>2.0</td>\n",
       "      <td>2.00</td>\n",
       "      <td>3.0</td>\n",
       "    </tr>\n",
       "    <tr>\n",
       "      <th>age</th>\n",
       "      <td>30000.0</td>\n",
       "      <td>35.485500</td>\n",
       "      <td>9.217904</td>\n",
       "      <td>21.0</td>\n",
       "      <td>28.00</td>\n",
       "      <td>34.0</td>\n",
       "      <td>41.00</td>\n",
       "      <td>79.0</td>\n",
       "    </tr>\n",
       "    <tr>\n",
       "      <th>pay_1</th>\n",
       "      <td>30000.0</td>\n",
       "      <td>-0.016700</td>\n",
       "      <td>1.123802</td>\n",
       "      <td>-2.0</td>\n",
       "      <td>-1.00</td>\n",
       "      <td>0.0</td>\n",
       "      <td>0.00</td>\n",
       "      <td>8.0</td>\n",
       "    </tr>\n",
       "    <tr>\n",
       "      <th>pay_2</th>\n",
       "      <td>30000.0</td>\n",
       "      <td>-0.133767</td>\n",
       "      <td>1.197186</td>\n",
       "      <td>-2.0</td>\n",
       "      <td>-1.00</td>\n",
       "      <td>0.0</td>\n",
       "      <td>0.00</td>\n",
       "      <td>8.0</td>\n",
       "    </tr>\n",
       "    <tr>\n",
       "      <th>pay_3</th>\n",
       "      <td>30000.0</td>\n",
       "      <td>-0.166200</td>\n",
       "      <td>1.196868</td>\n",
       "      <td>-2.0</td>\n",
       "      <td>-1.00</td>\n",
       "      <td>0.0</td>\n",
       "      <td>0.00</td>\n",
       "      <td>8.0</td>\n",
       "    </tr>\n",
       "    <tr>\n",
       "      <th>pay_4</th>\n",
       "      <td>30000.0</td>\n",
       "      <td>-0.220667</td>\n",
       "      <td>1.169139</td>\n",
       "      <td>-2.0</td>\n",
       "      <td>-1.00</td>\n",
       "      <td>0.0</td>\n",
       "      <td>0.00</td>\n",
       "      <td>8.0</td>\n",
       "    </tr>\n",
       "    <tr>\n",
       "      <th>pay_5</th>\n",
       "      <td>30000.0</td>\n",
       "      <td>-0.266200</td>\n",
       "      <td>1.133187</td>\n",
       "      <td>-2.0</td>\n",
       "      <td>-1.00</td>\n",
       "      <td>0.0</td>\n",
       "      <td>0.00</td>\n",
       "      <td>8.0</td>\n",
       "    </tr>\n",
       "    <tr>\n",
       "      <th>pay_6</th>\n",
       "      <td>30000.0</td>\n",
       "      <td>-0.291100</td>\n",
       "      <td>1.149988</td>\n",
       "      <td>-2.0</td>\n",
       "      <td>-1.00</td>\n",
       "      <td>0.0</td>\n",
       "      <td>0.00</td>\n",
       "      <td>8.0</td>\n",
       "    </tr>\n",
       "    <tr>\n",
       "      <th>bill_amt1</th>\n",
       "      <td>30000.0</td>\n",
       "      <td>51223.330900</td>\n",
       "      <td>73635.860576</td>\n",
       "      <td>-165580.0</td>\n",
       "      <td>3558.75</td>\n",
       "      <td>22381.5</td>\n",
       "      <td>67091.00</td>\n",
       "      <td>964511.0</td>\n",
       "    </tr>\n",
       "    <tr>\n",
       "      <th>bill_amt2</th>\n",
       "      <td>30000.0</td>\n",
       "      <td>49179.075167</td>\n",
       "      <td>71173.768783</td>\n",
       "      <td>-69777.0</td>\n",
       "      <td>2984.75</td>\n",
       "      <td>21200.0</td>\n",
       "      <td>64006.25</td>\n",
       "      <td>983931.0</td>\n",
       "    </tr>\n",
       "    <tr>\n",
       "      <th>bill_amt3</th>\n",
       "      <td>30000.0</td>\n",
       "      <td>47013.154800</td>\n",
       "      <td>69349.387427</td>\n",
       "      <td>-157264.0</td>\n",
       "      <td>2666.25</td>\n",
       "      <td>20088.5</td>\n",
       "      <td>60164.75</td>\n",
       "      <td>1664089.0</td>\n",
       "    </tr>\n",
       "    <tr>\n",
       "      <th>bill_amt4</th>\n",
       "      <td>30000.0</td>\n",
       "      <td>43262.948967</td>\n",
       "      <td>64332.856134</td>\n",
       "      <td>-170000.0</td>\n",
       "      <td>2326.75</td>\n",
       "      <td>19052.0</td>\n",
       "      <td>54506.00</td>\n",
       "      <td>891586.0</td>\n",
       "    </tr>\n",
       "    <tr>\n",
       "      <th>bill_amt5</th>\n",
       "      <td>30000.0</td>\n",
       "      <td>40311.400967</td>\n",
       "      <td>60797.155770</td>\n",
       "      <td>-81334.0</td>\n",
       "      <td>1763.00</td>\n",
       "      <td>18104.5</td>\n",
       "      <td>50190.50</td>\n",
       "      <td>927171.0</td>\n",
       "    </tr>\n",
       "    <tr>\n",
       "      <th>bill_amt6</th>\n",
       "      <td>30000.0</td>\n",
       "      <td>38871.760400</td>\n",
       "      <td>59554.107537</td>\n",
       "      <td>-339603.0</td>\n",
       "      <td>1256.00</td>\n",
       "      <td>17071.0</td>\n",
       "      <td>49198.25</td>\n",
       "      <td>961664.0</td>\n",
       "    </tr>\n",
       "    <tr>\n",
       "      <th>pay_amt1</th>\n",
       "      <td>30000.0</td>\n",
       "      <td>5663.580500</td>\n",
       "      <td>16563.280354</td>\n",
       "      <td>0.0</td>\n",
       "      <td>1000.00</td>\n",
       "      <td>2100.0</td>\n",
       "      <td>5006.00</td>\n",
       "      <td>873552.0</td>\n",
       "    </tr>\n",
       "    <tr>\n",
       "      <th>pay_amt2</th>\n",
       "      <td>30000.0</td>\n",
       "      <td>5921.163500</td>\n",
       "      <td>23040.870402</td>\n",
       "      <td>0.0</td>\n",
       "      <td>833.00</td>\n",
       "      <td>2009.0</td>\n",
       "      <td>5000.00</td>\n",
       "      <td>1684259.0</td>\n",
       "    </tr>\n",
       "    <tr>\n",
       "      <th>pay_amt3</th>\n",
       "      <td>30000.0</td>\n",
       "      <td>5225.681500</td>\n",
       "      <td>17606.961470</td>\n",
       "      <td>0.0</td>\n",
       "      <td>390.00</td>\n",
       "      <td>1800.0</td>\n",
       "      <td>4505.00</td>\n",
       "      <td>896040.0</td>\n",
       "    </tr>\n",
       "    <tr>\n",
       "      <th>pay_amt4</th>\n",
       "      <td>30000.0</td>\n",
       "      <td>4826.076867</td>\n",
       "      <td>15666.159744</td>\n",
       "      <td>0.0</td>\n",
       "      <td>296.00</td>\n",
       "      <td>1500.0</td>\n",
       "      <td>4013.25</td>\n",
       "      <td>621000.0</td>\n",
       "    </tr>\n",
       "    <tr>\n",
       "      <th>pay_amt5</th>\n",
       "      <td>30000.0</td>\n",
       "      <td>4799.387633</td>\n",
       "      <td>15278.305679</td>\n",
       "      <td>0.0</td>\n",
       "      <td>252.50</td>\n",
       "      <td>1500.0</td>\n",
       "      <td>4031.50</td>\n",
       "      <td>426529.0</td>\n",
       "    </tr>\n",
       "    <tr>\n",
       "      <th>pay_amt6</th>\n",
       "      <td>30000.0</td>\n",
       "      <td>5215.502567</td>\n",
       "      <td>17777.465775</td>\n",
       "      <td>0.0</td>\n",
       "      <td>117.75</td>\n",
       "      <td>1500.0</td>\n",
       "      <td>4000.00</td>\n",
       "      <td>528666.0</td>\n",
       "    </tr>\n",
       "    <tr>\n",
       "      <th>next_month</th>\n",
       "      <td>30000.0</td>\n",
       "      <td>0.221200</td>\n",
       "      <td>0.415062</td>\n",
       "      <td>0.0</td>\n",
       "      <td>0.00</td>\n",
       "      <td>0.0</td>\n",
       "      <td>0.00</td>\n",
       "      <td>1.0</td>\n",
       "    </tr>\n",
       "  </tbody>\n",
       "</table>\n",
       "</div>"
      ],
      "text/plain": [
       "              count           mean            std       min       25%  \\\n",
       "id          30000.0   15000.500000    8660.398374       1.0   7500.75   \n",
       "limit_bal   30000.0  167484.322667  129747.661567   10000.0  50000.00   \n",
       "sex         30000.0       1.603733       0.489129       1.0      1.00   \n",
       "education   30000.0       1.779867       0.728486       0.0      1.00   \n",
       "marriage    30000.0       1.557267       0.521405       1.0      1.00   \n",
       "age         30000.0      35.485500       9.217904      21.0     28.00   \n",
       "pay_1       30000.0      -0.016700       1.123802      -2.0     -1.00   \n",
       "pay_2       30000.0      -0.133767       1.197186      -2.0     -1.00   \n",
       "pay_3       30000.0      -0.166200       1.196868      -2.0     -1.00   \n",
       "pay_4       30000.0      -0.220667       1.169139      -2.0     -1.00   \n",
       "pay_5       30000.0      -0.266200       1.133187      -2.0     -1.00   \n",
       "pay_6       30000.0      -0.291100       1.149988      -2.0     -1.00   \n",
       "bill_amt1   30000.0   51223.330900   73635.860576 -165580.0   3558.75   \n",
       "bill_amt2   30000.0   49179.075167   71173.768783  -69777.0   2984.75   \n",
       "bill_amt3   30000.0   47013.154800   69349.387427 -157264.0   2666.25   \n",
       "bill_amt4   30000.0   43262.948967   64332.856134 -170000.0   2326.75   \n",
       "bill_amt5   30000.0   40311.400967   60797.155770  -81334.0   1763.00   \n",
       "bill_amt6   30000.0   38871.760400   59554.107537 -339603.0   1256.00   \n",
       "pay_amt1    30000.0    5663.580500   16563.280354       0.0   1000.00   \n",
       "pay_amt2    30000.0    5921.163500   23040.870402       0.0    833.00   \n",
       "pay_amt3    30000.0    5225.681500   17606.961470       0.0    390.00   \n",
       "pay_amt4    30000.0    4826.076867   15666.159744       0.0    296.00   \n",
       "pay_amt5    30000.0    4799.387633   15278.305679       0.0    252.50   \n",
       "pay_amt6    30000.0    5215.502567   17777.465775       0.0    117.75   \n",
       "next_month  30000.0       0.221200       0.415062       0.0      0.00   \n",
       "\n",
       "                 50%        75%        max  \n",
       "id           15000.5   22500.25    30000.0  \n",
       "limit_bal   140000.0  240000.00  1000000.0  \n",
       "sex              2.0       2.00        2.0  \n",
       "education        2.0       2.00        3.0  \n",
       "marriage         2.0       2.00        3.0  \n",
       "age             34.0      41.00       79.0  \n",
       "pay_1            0.0       0.00        8.0  \n",
       "pay_2            0.0       0.00        8.0  \n",
       "pay_3            0.0       0.00        8.0  \n",
       "pay_4            0.0       0.00        8.0  \n",
       "pay_5            0.0       0.00        8.0  \n",
       "pay_6            0.0       0.00        8.0  \n",
       "bill_amt1    22381.5   67091.00   964511.0  \n",
       "bill_amt2    21200.0   64006.25   983931.0  \n",
       "bill_amt3    20088.5   60164.75  1664089.0  \n",
       "bill_amt4    19052.0   54506.00   891586.0  \n",
       "bill_amt5    18104.5   50190.50   927171.0  \n",
       "bill_amt6    17071.0   49198.25   961664.0  \n",
       "pay_amt1      2100.0    5006.00   873552.0  \n",
       "pay_amt2      2009.0    5000.00  1684259.0  \n",
       "pay_amt3      1800.0    4505.00   896040.0  \n",
       "pay_amt4      1500.0    4013.25   621000.0  \n",
       "pay_amt5      1500.0    4031.50   426529.0  \n",
       "pay_amt6      1500.0    4000.00   528666.0  \n",
       "next_month       0.0       0.00        1.0  "
      ]
     },
     "execution_count": 141,
     "metadata": {},
     "output_type": "execute_result"
    }
   ],
   "source": [
    "df.describe().T"
   ]
  },
  {
   "cell_type": "markdown",
   "metadata": {},
   "source": [
    "**默認中1的佔比為22％。**\n",
    "\n",
    "**即下個月將有22％的客戶違約**\n",
    "\n",
    "**信用卡限額limit_bal的總計為167484**\n",
    "\n",
    "**客戶的平均年齡35**\n",
    "\n",
    "**教育水平主要為研究生和大學生**。 \n",
    "\n",
    "**對於Pay_1〜Pay_6，至少75％的客戶不處於付款延遲狀態。**"
   ]
  },
  {
   "cell_type": "code",
   "execution_count": 142,
   "metadata": {},
   "outputs": [
    {
     "data": {
      "text/plain": [
       "<matplotlib.axes._subplots.AxesSubplot at 0x2118658e9d0>"
      ]
     },
     "execution_count": 142,
     "metadata": {},
     "output_type": "execute_result"
    },
    {
     "data": {
      "image/png": "[encoded data removed]",
      "text/plain": [
       "<Figure size 1800x864 with 2 Axes>"
      ]
     },
     "metadata": {
      "needs_background": "light"
     },
     "output_type": "display_data"
    }
   ],
   "source": [
    "plt.figure(figsize=(25,12))#選擇圖片大小\n",
    "sns.set_context('talk',font_scale=0.6)\n",
    "sns.heatmap(df.iloc[:,1:].corr(),cmap='Blues',annot=True)"
   ]
  },
  {
   "cell_type": "code",
   "execution_count": 143,
   "metadata": {},
   "outputs": [
    {
     "data": {
      "text/plain": [
       "next_month    1.000000\n",
       "pay_1         0.324794\n",
       "pay_2         0.263551\n",
       "pay_3         0.235253\n",
       "pay_4         0.216614\n",
       "pay_5         0.204149\n",
       "pay_6         0.186866\n",
       "education     0.065685\n",
       "age           0.013890\n",
       "bill_amt6    -0.005372\n",
       "bill_amt5    -0.006760\n",
       "bill_amt4    -0.010156\n",
       "id           -0.013952\n",
       "bill_amt3    -0.014076\n",
       "bill_amt2    -0.014193\n",
       "bill_amt1    -0.019644\n",
       "marriage     -0.027575\n",
       "sex          -0.039961\n",
       "pay_amt6     -0.053183\n",
       "pay_amt5     -0.055124\n",
       "pay_amt3     -0.056250\n",
       "pay_amt4     -0.056827\n",
       "pay_amt2     -0.058579\n",
       "pay_amt1     -0.072929\n",
       "limit_bal    -0.153520\n",
       "Name: next_month, dtype: float64"
      ]
     },
     "execution_count": 143,
     "metadata": {},
     "output_type": "execute_result"
    }
   ],
   "source": [
    "corr_matrix = df.corr()\n",
    "corr_matrix['next_month'].sort_values(ascending=False)"
   ]
  },
  {
   "cell_type": "markdown",
   "metadata": {},
   "source": [
    "**相關係數的意思是當一個變數變化時候另外一個變數會如何調整**\n",
    "\n",
    "**在最後一行，我們查看因主要觀察變數Next_month與各個變量間的相關性**\n",
    "\n",
    "**limit_bal與是否還款的相關係數為負數代表新用餘額程度越高違約率就越低**\n",
    "\n",
    "**換句話說越有錢的人可能違約率就較低**\n",
    "\n",
    "**再來觀察pay_0~pay_6的人觀察到相關係數幾乎占比最多，代表延遲付款約接近目前月份且較長時段沒有完全償付完全的人，違約比例越高**"
   ]
  },
  {
   "cell_type": "code",
   "execution_count": 144,
   "metadata": {
    "scrolled": true
   },
   "outputs": [
    {
     "data": {
      "text/plain": [
       "[Text(0, 0, 'other'),\n",
       " Text(0, 0, 'graduate'),\n",
       " Text(0, 0, 'university'),\n",
       " Text(0, 0, 'high school')]"
      ]
     },
     "execution_count": 144,
     "metadata": {},
     "output_type": "execute_result"
    },
    {
     "data": {
      "image/png": "[encoded data removed]",
      "text/plain": [
       "<Figure size 432x288 with 1 Axes>"
      ]
     },
     "metadata": {
      "needs_background": "light"
     },
     "output_type": "display_data"
    }
   ],
   "source": [
    "#觀察違約比例人的教育程度與婚姻狀況\n",
    "educaction =  sns.countplot(x='education',hue='next_month',data=df)\n",
    "educaction.set_xticklabels(['other','graduate','university','high school'])"
   ]
  },
  {
   "cell_type": "code",
   "execution_count": 145,
   "metadata": {},
   "outputs": [
    {
     "data": {
      "text/plain": [
       "[Text(0, 0, 'marriage'), Text(0, 0, 'single'), Text(0, 0, 'other')]"
      ]
     },
     "execution_count": 145,
     "metadata": {},
     "output_type": "execute_result"
    },
    {
     "data": {
      "image/png": "[encoded data removed]",
      "text/plain": [
       "<Figure size 432x288 with 1 Axes>"
      ]
     },
     "metadata": {
      "needs_background": "light"
     },
     "output_type": "display_data"
    }
   ],
   "source": [
    "marriage = sns.countplot(x='marriage',hue='next_month',data=df)\n",
    "marriage.set_xticklabels(['marriage','single','other'])"
   ]
  },
  {
   "cell_type": "markdown",
   "metadata": {},
   "source": [
    "**觀察到大學生違約人數最高再來是研究生，最後是高中生**\n",
    "\n",
    "**此外單身人用信用卡比率最高也能理解因為還沒有家庭花費機會可以多一些，但違約率兩者相當，可以說結婚的人違約機率更高**\n",
    "\n",
    "**但在教育程度中不能因為，數值高就判定要看整體比率，不能單看數量**"
   ]
  },
  {
   "cell_type": "code",
   "execution_count": 146,
   "metadata": {},
   "outputs": [
    {
     "data": {
      "text/html": [
       "<div>\n",
       "<style scoped>\n",
       "    .dataframe tbody tr th:only-of-type {\n",
       "        vertical-align: middle;\n",
       "    }\n",
       "\n",
       "    .dataframe tbody tr th {\n",
       "        vertical-align: top;\n",
       "    }\n",
       "\n",
       "    .dataframe thead th {\n",
       "        text-align: right;\n",
       "    }\n",
       "</style>\n",
       "<table border=\"1\" class=\"dataframe\">\n",
       "  <thead>\n",
       "    <tr style=\"text-align: right;\">\n",
       "      <th></th>\n",
       "      <th>education</th>\n",
       "      <th>not_default</th>\n",
       "      <th>default</th>\n",
       "      <th>total</th>\n",
       "    </tr>\n",
       "  </thead>\n",
       "  <tbody>\n",
       "    <tr>\n",
       "      <th>0</th>\n",
       "      <td>0.0</td>\n",
       "      <td>435</td>\n",
       "      <td>33</td>\n",
       "      <td>468</td>\n",
       "    </tr>\n",
       "    <tr>\n",
       "      <th>1</th>\n",
       "      <td>1.0</td>\n",
       "      <td>8549</td>\n",
       "      <td>2036</td>\n",
       "      <td>10585</td>\n",
       "    </tr>\n",
       "    <tr>\n",
       "      <th>2</th>\n",
       "      <td>2.0</td>\n",
       "      <td>10700</td>\n",
       "      <td>3330</td>\n",
       "      <td>14030</td>\n",
       "    </tr>\n",
       "    <tr>\n",
       "      <th>3</th>\n",
       "      <td>3.0</td>\n",
       "      <td>3680</td>\n",
       "      <td>1237</td>\n",
       "      <td>4917</td>\n",
       "    </tr>\n",
       "  </tbody>\n",
       "</table>\n",
       "</div>"
      ],
      "text/plain": [
       "   education  not_default  default  total\n",
       "0        0.0          435       33    468\n",
       "1        1.0         8549     2036  10585\n",
       "2        2.0        10700     3330  14030\n",
       "3        3.0         3680     1237   4917"
      ]
     },
     "execution_count": 146,
     "metadata": {},
     "output_type": "execute_result"
    }
   ],
   "source": [
    "education_0 =df.groupby(df['education'][df['next_month']==0]).size().reset_index(name='not_default') \n",
    "education_1 =df.groupby(df['education'][df['next_month']==1]).size().reset_index(name='default') \n",
    "total=df.groupby(df['education']).size().reset_index(name='total')\n",
    "education_table = education_0.join(education_1['default']).join(total['total'])\n",
    "education_table"
   ]
  },
  {
   "cell_type": "code",
   "execution_count": 147,
   "metadata": {},
   "outputs": [
    {
     "data": {
      "text/html": [
       "<div>\n",
       "<style scoped>\n",
       "    .dataframe tbody tr th:only-of-type {\n",
       "        vertical-align: middle;\n",
       "    }\n",
       "\n",
       "    .dataframe tbody tr th {\n",
       "        vertical-align: top;\n",
       "    }\n",
       "\n",
       "    .dataframe thead th {\n",
       "        text-align: right;\n",
       "    }\n",
       "</style>\n",
       "<table border=\"1\" class=\"dataframe\">\n",
       "  <thead>\n",
       "    <tr style=\"text-align: right;\">\n",
       "      <th></th>\n",
       "      <th>marriage</th>\n",
       "      <th>not_default</th>\n",
       "      <th>default</th>\n",
       "      <th>total</th>\n",
       "    </tr>\n",
       "  </thead>\n",
       "  <tbody>\n",
       "    <tr>\n",
       "      <th>0</th>\n",
       "      <td>1.0</td>\n",
       "      <td>10453</td>\n",
       "      <td>3206</td>\n",
       "      <td>13659</td>\n",
       "    </tr>\n",
       "    <tr>\n",
       "      <th>1</th>\n",
       "      <td>2.0</td>\n",
       "      <td>12623</td>\n",
       "      <td>3341</td>\n",
       "      <td>15964</td>\n",
       "    </tr>\n",
       "    <tr>\n",
       "      <th>2</th>\n",
       "      <td>3.0</td>\n",
       "      <td>288</td>\n",
       "      <td>89</td>\n",
       "      <td>377</td>\n",
       "    </tr>\n",
       "  </tbody>\n",
       "</table>\n",
       "</div>"
      ],
      "text/plain": [
       "   marriage  not_default  default  total\n",
       "0       1.0        10453     3206  13659\n",
       "1       2.0        12623     3341  15964\n",
       "2       3.0          288       89    377"
      ]
     },
     "execution_count": 147,
     "metadata": {},
     "output_type": "execute_result"
    }
   ],
   "source": [
    "marriage_0 =df.groupby(df['marriage'][df['next_month']==0]).size().reset_index(name='not_default') \n",
    "marriage_1 =df.groupby(df['marriage'][df['next_month']==1]).size().reset_index(name='default') \n",
    "total1=df.groupby(df['marriage']).size().reset_index(name='total')\n",
    "marriage_table = marriage_0.join(marriage_1['default']).join(total1['total'])\n",
    "marriage_table"
   ]
  },
  {
   "cell_type": "code",
   "execution_count": 148,
   "metadata": {},
   "outputs": [
    {
     "data": {
      "text/html": [
       "<div>\n",
       "<style scoped>\n",
       "    .dataframe tbody tr th:only-of-type {\n",
       "        vertical-align: middle;\n",
       "    }\n",
       "\n",
       "    .dataframe tbody tr th {\n",
       "        vertical-align: top;\n",
       "    }\n",
       "\n",
       "    .dataframe thead th {\n",
       "        text-align: right;\n",
       "    }\n",
       "</style>\n",
       "<table border=\"1\" class=\"dataframe\">\n",
       "  <thead>\n",
       "    <tr style=\"text-align: right;\">\n",
       "      <th></th>\n",
       "      <th>education</th>\n",
       "      <th>default_percent</th>\n",
       "      <th>not_default_percent</th>\n",
       "    </tr>\n",
       "  </thead>\n",
       "  <tbody>\n",
       "    <tr>\n",
       "      <th>0</th>\n",
       "      <td>0.0</td>\n",
       "      <td>0.07</td>\n",
       "      <td>0.93</td>\n",
       "    </tr>\n",
       "    <tr>\n",
       "      <th>1</th>\n",
       "      <td>1.0</td>\n",
       "      <td>0.19</td>\n",
       "      <td>0.81</td>\n",
       "    </tr>\n",
       "    <tr>\n",
       "      <th>2</th>\n",
       "      <td>2.0</td>\n",
       "      <td>0.24</td>\n",
       "      <td>0.76</td>\n",
       "    </tr>\n",
       "    <tr>\n",
       "      <th>3</th>\n",
       "      <td>3.0</td>\n",
       "      <td>0.25</td>\n",
       "      <td>0.75</td>\n",
       "    </tr>\n",
       "  </tbody>\n",
       "</table>\n",
       "</div>"
      ],
      "text/plain": [
       "   education  default_percent  not_default_percent\n",
       "0        0.0             0.07                 0.93\n",
       "1        1.0             0.19                 0.81\n",
       "2        2.0             0.24                 0.76\n",
       "3        3.0             0.25                 0.75"
      ]
     },
     "execution_count": 148,
     "metadata": {},
     "output_type": "execute_result"
    }
   ],
   "source": [
    "education_table['default_percent']=round(education_table['default']/education_table['total'],2)\n",
    "education_table['not_default_percent']=round(education_table['not_default']/education_table['total'],2)\n",
    "edu_pet=education_table.iloc[:,[0,4,5]]\n",
    "edu_pet"
   ]
  },
  {
   "cell_type": "code",
   "execution_count": 149,
   "metadata": {},
   "outputs": [
    {
     "data": {
      "text/html": [
       "<div>\n",
       "<style scoped>\n",
       "    .dataframe tbody tr th:only-of-type {\n",
       "        vertical-align: middle;\n",
       "    }\n",
       "\n",
       "    .dataframe tbody tr th {\n",
       "        vertical-align: top;\n",
       "    }\n",
       "\n",
       "    .dataframe thead th {\n",
       "        text-align: right;\n",
       "    }\n",
       "</style>\n",
       "<table border=\"1\" class=\"dataframe\">\n",
       "  <thead>\n",
       "    <tr style=\"text-align: right;\">\n",
       "      <th></th>\n",
       "      <th>marriage</th>\n",
       "      <th>default_percent</th>\n",
       "      <th>not_default_percent</th>\n",
       "    </tr>\n",
       "  </thead>\n",
       "  <tbody>\n",
       "    <tr>\n",
       "      <th>0</th>\n",
       "      <td>1.0</td>\n",
       "      <td>0.23</td>\n",
       "      <td>0.77</td>\n",
       "    </tr>\n",
       "    <tr>\n",
       "      <th>1</th>\n",
       "      <td>2.0</td>\n",
       "      <td>0.21</td>\n",
       "      <td>0.79</td>\n",
       "    </tr>\n",
       "    <tr>\n",
       "      <th>2</th>\n",
       "      <td>3.0</td>\n",
       "      <td>0.24</td>\n",
       "      <td>0.76</td>\n",
       "    </tr>\n",
       "  </tbody>\n",
       "</table>\n",
       "</div>"
      ],
      "text/plain": [
       "   marriage  default_percent  not_default_percent\n",
       "0       1.0             0.23                 0.77\n",
       "1       2.0             0.21                 0.79\n",
       "2       3.0             0.24                 0.76"
      ]
     },
     "execution_count": 149,
     "metadata": {},
     "output_type": "execute_result"
    }
   ],
   "source": [
    "marriage_table['default_percent']=round(marriage_table['default']/marriage_table['total'],2)\n",
    "marriage_table['not_default_percent']=round(marriage_table['not_default']/marriage_table['total'],2)\n",
    "mar_pet=marriage_table.iloc[:,[0,4,5]]\n",
    "mar_pet"
   ]
  },
  {
   "cell_type": "markdown",
   "metadata": {},
   "source": [
    "**綜合上述可以觀察到高中生的違約率是最高的，顯示為來若有高中生要申請時需要多加留意，研究所整體違約率最低**\n",
    "\n",
    "**婚姻方面以單身違約率較低，結婚稍高**"
   ]
  },
  {
   "cell_type": "code",
   "execution_count": 150,
   "metadata": {},
   "outputs": [
    {
     "data": {
      "text/plain": [
       "[Text(0, 0, 'other'),\n",
       " Text(0, 0, 'graduate'),\n",
       " Text(0, 0, 'university'),\n",
       " Text(0, 0, 'high school')]"
      ]
     },
     "execution_count": 150,
     "metadata": {},
     "output_type": "execute_result"
    },
    {
     "data": {
      "text/plain": [
       "<Figure size 864x432 with 0 Axes>"
      ]
     },
     "metadata": {},
     "output_type": "display_data"
    },
    {
     "data": {
      "image/png": "[encoded data removed]",
      "text/plain": [
       "<Figure size 432x288 with 1 Axes>"
      ]
     },
     "metadata": {
      "needs_background": "light"
     },
     "output_type": "display_data"
    }
   ],
   "source": [
    "plt.figure(figsize=(12,6))\n",
    "sns.set_context('talk',font_scale=0.7)\n",
    "edu=edu_pet.plot(x='education',kind='barh',stacked=True,title='education')\n",
    "edu.set_xlabel('percent')\n",
    "edu.set_yticklabels(['other','graduate','university','high school'])"
   ]
  },
  {
   "cell_type": "code",
   "execution_count": 151,
   "metadata": {},
   "outputs": [
    {
     "data": {
      "text/plain": [
       "[Text(0, 0, 'marriage'), Text(0, 0, 'single'), Text(0, 0, 'other')]"
      ]
     },
     "execution_count": 151,
     "metadata": {},
     "output_type": "execute_result"
    },
    {
     "data": {
      "text/plain": [
       "<Figure size 864x432 with 0 Axes>"
      ]
     },
     "metadata": {},
     "output_type": "display_data"
    },
    {
     "data": {
      "image/png": "[encoded data removed]",
      "text/plain": [
       "<Figure size 432x288 with 1 Axes>"
      ]
     },
     "metadata": {
      "needs_background": "light"
     },
     "output_type": "display_data"
    }
   ],
   "source": [
    "plt.figure(figsize=(12,6))\n",
    "sns.set_context('talk',font_scale=0.7)\n",
    "mar=mar_pet.plot(x='marriage',kind='barh',stacked=True,title='marriage')\n",
    "mar.set_xlabel('percent')\n",
    "mar.set_yticklabels(['marriage','single','other'])"
   ]
  },
  {
   "cell_type": "code",
   "execution_count": 152,
   "metadata": {
    "scrolled": true
   },
   "outputs": [
    {
     "data": {
      "text/plain": [
       "<matplotlib.axes._subplots.AxesSubplot at 0x21189a3d3d0>"
      ]
     },
     "execution_count": 152,
     "metadata": {},
     "output_type": "execute_result"
    },
    {
     "data": {
      "image/png": "[encoded data removed]",
      "text/plain": [
       "<Figure size 432x288 with 1 Axes>"
      ]
     },
     "metadata": {
      "needs_background": "light"
     },
     "output_type": "display_data"
    }
   ],
   "source": [
    "sns.countplot(x='sex',hue='next_month',data=df)"
   ]
  },
  {
   "cell_type": "code",
   "execution_count": 153,
   "metadata": {},
   "outputs": [
    {
     "data": {
      "text/html": [
       "<div>\n",
       "<style scoped>\n",
       "    .dataframe tbody tr th:only-of-type {\n",
       "        vertical-align: middle;\n",
       "    }\n",
       "\n",
       "    .dataframe tbody tr th {\n",
       "        vertical-align: top;\n",
       "    }\n",
       "\n",
       "    .dataframe thead th {\n",
       "        text-align: right;\n",
       "    }\n",
       "</style>\n",
       "<table border=\"1\" class=\"dataframe\">\n",
       "  <thead>\n",
       "    <tr style=\"text-align: right;\">\n",
       "      <th></th>\n",
       "      <th>sex</th>\n",
       "      <th>not_default</th>\n",
       "      <th>default</th>\n",
       "      <th>total</th>\n",
       "    </tr>\n",
       "  </thead>\n",
       "  <tbody>\n",
       "    <tr>\n",
       "      <th>0</th>\n",
       "      <td>1.0</td>\n",
       "      <td>9015</td>\n",
       "      <td>2873</td>\n",
       "      <td>11888</td>\n",
       "    </tr>\n",
       "    <tr>\n",
       "      <th>1</th>\n",
       "      <td>2.0</td>\n",
       "      <td>14349</td>\n",
       "      <td>3763</td>\n",
       "      <td>18112</td>\n",
       "    </tr>\n",
       "  </tbody>\n",
       "</table>\n",
       "</div>"
      ],
      "text/plain": [
       "   sex  not_default  default  total\n",
       "0  1.0         9015     2873  11888\n",
       "1  2.0        14349     3763  18112"
      ]
     },
     "execution_count": 153,
     "metadata": {},
     "output_type": "execute_result"
    }
   ],
   "source": [
    "sex_0 =df.groupby(df['sex'][df['next_month']==0]).size().reset_index(name='not_default') \n",
    "sex_1 =df.groupby(df['sex'][df['next_month']==1]).size().reset_index(name='default') \n",
    "total2=df.groupby(df['sex']).size().reset_index(name='total')\n",
    "sex_table = sex_0.join(sex_1['default']).join(total2['total'])\n",
    "sex_table"
   ]
  },
  {
   "cell_type": "code",
   "execution_count": 154,
   "metadata": {},
   "outputs": [
    {
     "data": {
      "text/html": [
       "<div>\n",
       "<style scoped>\n",
       "    .dataframe tbody tr th:only-of-type {\n",
       "        vertical-align: middle;\n",
       "    }\n",
       "\n",
       "    .dataframe tbody tr th {\n",
       "        vertical-align: top;\n",
       "    }\n",
       "\n",
       "    .dataframe thead th {\n",
       "        text-align: right;\n",
       "    }\n",
       "</style>\n",
       "<table border=\"1\" class=\"dataframe\">\n",
       "  <thead>\n",
       "    <tr style=\"text-align: right;\">\n",
       "      <th></th>\n",
       "      <th>sex</th>\n",
       "      <th>default_percent</th>\n",
       "      <th>not_default_percent</th>\n",
       "    </tr>\n",
       "  </thead>\n",
       "  <tbody>\n",
       "    <tr>\n",
       "      <th>0</th>\n",
       "      <td>1.0</td>\n",
       "      <td>0.23</td>\n",
       "      <td>0.77</td>\n",
       "    </tr>\n",
       "    <tr>\n",
       "      <th>1</th>\n",
       "      <td>2.0</td>\n",
       "      <td>0.21</td>\n",
       "      <td>0.79</td>\n",
       "    </tr>\n",
       "  </tbody>\n",
       "</table>\n",
       "</div>"
      ],
      "text/plain": [
       "   sex  default_percent  not_default_percent\n",
       "0  1.0             0.23                 0.77\n",
       "1  2.0             0.21                 0.79"
      ]
     },
     "execution_count": 154,
     "metadata": {},
     "output_type": "execute_result"
    }
   ],
   "source": [
    "sex_table['default_percent']=round(marriage_table['default']/marriage_table['total'],2)\n",
    "sex_table['not_default_percent']=round(marriage_table['not_default']/marriage_table['total'],2)\n",
    "sex_pet=sex_table.iloc[:,[0,4,5]]\n",
    "sex_pet"
   ]
  },
  {
   "cell_type": "markdown",
   "metadata": {},
   "source": [
    "**女性（優質客戶）的違約比例比例，男性的違約比例反而較高**"
   ]
  },
  {
   "cell_type": "code",
   "execution_count": 155,
   "metadata": {},
   "outputs": [
    {
     "name": "stdout",
     "output_type": "stream",
     "text": [
      "age[21, 22, 23, 24, 25, 26, 27, 28, 29, 30, 31, 32, 33, 34, 35, 36, 37, 38, 39, 40, 41, 42, 43, 44, 45, 46, 47, 48, 49, 50, 51, 52, 53, 54, 55, 56, 57, 58, 59, 60, 61, 62, 63, 64, 65, 66, 67, 68, 69, 70, 71, 72, 73, 74, 75, 79]\n"
     ]
    }
   ],
   "source": [
    "print('age'+str(sorted(df['age'].unique())))\n",
    "\n",
    "def agee(x):\n",
    "    if x >=20 and x<30:\n",
    "        return '20-29'\n",
    "    if x >=30 and x <40:\n",
    "        return '30-39'\n",
    "    if x >=40 and x <50:\n",
    "        return '40-49'\n",
    "    if x >=50 and x <60:\n",
    "        return '50-59'\n",
    "    if x >=60 and x <70:\n",
    "        return '60-69'\n",
    "    else:\n",
    "        return '70-79'"
   ]
  },
  {
   "cell_type": "code",
   "execution_count": 156,
   "metadata": {},
   "outputs": [],
   "source": [
    "df['age_range'] = df['age'].apply(agee)"
   ]
  },
  {
   "cell_type": "code",
   "execution_count": 157,
   "metadata": {},
   "outputs": [
    {
     "data": {
      "text/plain": [
       "<matplotlib.axes._subplots.AxesSubplot at 0x21189920af0>"
      ]
     },
     "execution_count": 157,
     "metadata": {},
     "output_type": "execute_result"
    },
    {
     "data": {
      "image/png": "[encoded data removed]",
      "text/plain": [
       "<Figure size 1440x720 with 1 Axes>"
      ]
     },
     "metadata": {},
     "output_type": "display_data"
    }
   ],
   "source": [
    "sns.set(rc={'figure.figsize':(20,10)})\n",
    "sns.countplot(x='age_range',hue='next_month',data=df)"
   ]
  },
  {
   "cell_type": "code",
   "execution_count": 158,
   "metadata": {},
   "outputs": [
    {
     "data": {
      "text/html": [
       "<div>\n",
       "<style scoped>\n",
       "    .dataframe tbody tr th:only-of-type {\n",
       "        vertical-align: middle;\n",
       "    }\n",
       "\n",
       "    .dataframe tbody tr th {\n",
       "        vertical-align: top;\n",
       "    }\n",
       "\n",
       "    .dataframe thead th {\n",
       "        text-align: right;\n",
       "    }\n",
       "</style>\n",
       "<table border=\"1\" class=\"dataframe\">\n",
       "  <thead>\n",
       "    <tr style=\"text-align: right;\">\n",
       "      <th></th>\n",
       "      <th>age_range</th>\n",
       "      <th>not default</th>\n",
       "      <th>default</th>\n",
       "      <th>total</th>\n",
       "    </tr>\n",
       "  </thead>\n",
       "  <tbody>\n",
       "    <tr>\n",
       "      <th>0</th>\n",
       "      <td>20-29</td>\n",
       "      <td>7421</td>\n",
       "      <td>2197</td>\n",
       "      <td>9618</td>\n",
       "    </tr>\n",
       "    <tr>\n",
       "      <th>1</th>\n",
       "      <td>30-39</td>\n",
       "      <td>8962</td>\n",
       "      <td>2276</td>\n",
       "      <td>11238</td>\n",
       "    </tr>\n",
       "    <tr>\n",
       "      <th>2</th>\n",
       "      <td>40-49</td>\n",
       "      <td>4979</td>\n",
       "      <td>1485</td>\n",
       "      <td>6464</td>\n",
       "    </tr>\n",
       "    <tr>\n",
       "      <th>3</th>\n",
       "      <td>50-59</td>\n",
       "      <td>1759</td>\n",
       "      <td>582</td>\n",
       "      <td>2341</td>\n",
       "    </tr>\n",
       "    <tr>\n",
       "      <th>4</th>\n",
       "      <td>60-69</td>\n",
       "      <td>225</td>\n",
       "      <td>89</td>\n",
       "      <td>314</td>\n",
       "    </tr>\n",
       "    <tr>\n",
       "      <th>5</th>\n",
       "      <td>70-79</td>\n",
       "      <td>18</td>\n",
       "      <td>7</td>\n",
       "      <td>25</td>\n",
       "    </tr>\n",
       "  </tbody>\n",
       "</table>\n",
       "</div>"
      ],
      "text/plain": [
       "  age_range  not default  default  total\n",
       "0     20-29         7421     2197   9618\n",
       "1     30-39         8962     2276  11238\n",
       "2     40-49         4979     1485   6464\n",
       "3     50-59         1759      582   2341\n",
       "4     60-69          225       89    314\n",
       "5     70-79           18        7     25"
      ]
     },
     "execution_count": 158,
     "metadata": {},
     "output_type": "execute_result"
    }
   ],
   "source": [
    "age_0=df.groupby(df['age_range'][df['next_month']==0]).size().reset_index(name='not default')\n",
    "age_1=df.groupby(df['age_range'][df['next_month']==1]).size().reset_index(name='default')\n",
    "age_2=df.groupby(df['age_range']).size().reset_index(name='total')\n",
    "age=age_0.join(age_1.set_index('age_range'),on='age_range').join(age_2.set_index('age_range'),on='age_range')\n",
    "age"
   ]
  },
  {
   "cell_type": "code",
   "execution_count": 159,
   "metadata": {},
   "outputs": [
    {
     "data": {
      "text/html": [
       "<div>\n",
       "<style scoped>\n",
       "    .dataframe tbody tr th:only-of-type {\n",
       "        vertical-align: middle;\n",
       "    }\n",
       "\n",
       "    .dataframe tbody tr th {\n",
       "        vertical-align: top;\n",
       "    }\n",
       "\n",
       "    .dataframe thead th {\n",
       "        text-align: right;\n",
       "    }\n",
       "</style>\n",
       "<table border=\"1\" class=\"dataframe\">\n",
       "  <thead>\n",
       "    <tr style=\"text-align: right;\">\n",
       "      <th></th>\n",
       "      <th>age_range</th>\n",
       "      <th>not_default_percent(%)</th>\n",
       "      <th>default_percent(%)</th>\n",
       "    </tr>\n",
       "  </thead>\n",
       "  <tbody>\n",
       "    <tr>\n",
       "      <th>0</th>\n",
       "      <td>20-29</td>\n",
       "      <td>77.16</td>\n",
       "      <td>22.84</td>\n",
       "    </tr>\n",
       "    <tr>\n",
       "      <th>1</th>\n",
       "      <td>30-39</td>\n",
       "      <td>79.75</td>\n",
       "      <td>20.25</td>\n",
       "    </tr>\n",
       "    <tr>\n",
       "      <th>2</th>\n",
       "      <td>40-49</td>\n",
       "      <td>77.03</td>\n",
       "      <td>22.97</td>\n",
       "    </tr>\n",
       "    <tr>\n",
       "      <th>3</th>\n",
       "      <td>50-59</td>\n",
       "      <td>75.14</td>\n",
       "      <td>24.86</td>\n",
       "    </tr>\n",
       "    <tr>\n",
       "      <th>4</th>\n",
       "      <td>60-69</td>\n",
       "      <td>71.66</td>\n",
       "      <td>28.34</td>\n",
       "    </tr>\n",
       "    <tr>\n",
       "      <th>5</th>\n",
       "      <td>70-79</td>\n",
       "      <td>72.00</td>\n",
       "      <td>28.00</td>\n",
       "    </tr>\n",
       "  </tbody>\n",
       "</table>\n",
       "</div>"
      ],
      "text/plain": [
       "  age_range  not_default_percent(%)  default_percent(%)\n",
       "0     20-29                   77.16               22.84\n",
       "1     30-39                   79.75               20.25\n",
       "2     40-49                   77.03               22.97\n",
       "3     50-59                   75.14               24.86\n",
       "4     60-69                   71.66               28.34\n",
       "5     70-79                   72.00               28.00"
      ]
     },
     "execution_count": 159,
     "metadata": {},
     "output_type": "execute_result"
    }
   ],
   "source": [
    "age['not_default_percent(%)']=round(age['not default']/age['total']*100,2)\n",
    "age['default_percent(%)']=round(age['default']/age['total']*100,2)\n",
    "age_def=age.iloc[:,[0,4,5]]\n",
    "age_def"
   ]
  },
  {
   "cell_type": "markdown",
   "metadata": {},
   "source": [
    "**由此觀察得知年齡越高越容易欠款顯示未來應該要多注意高年齡層的還款狀況或許是因為家庭壓力導致還款能力越來越大**"
   ]
  },
  {
   "cell_type": "code",
   "execution_count": 160,
   "metadata": {},
   "outputs": [],
   "source": [
    "def limit(x):\n",
    "    if x >=0 and x<50000:\n",
    "        return '0-50000'\n",
    "    if x >=50000 and x <100000:\n",
    "        return '50000-100000'\n",
    "    if x >=100000 and x <150000:\n",
    "        return '100000-150000'\n",
    "    if x >=150000 and x <200000:\n",
    "        return '150000-200000'\n",
    "    if x >=200000 and x <250000:\n",
    "        return '200000-250000'\n",
    "    else:\n",
    "        return 'above 250000'"
   ]
  },
  {
   "cell_type": "code",
   "execution_count": 161,
   "metadata": {},
   "outputs": [],
   "source": [
    "df['limit_range'] = df['limit_bal'].apply(limit)"
   ]
  },
  {
   "cell_type": "code",
   "execution_count": 162,
   "metadata": {},
   "outputs": [
    {
     "data": {
      "text/html": [
       "<div>\n",
       "<style scoped>\n",
       "    .dataframe tbody tr th:only-of-type {\n",
       "        vertical-align: middle;\n",
       "    }\n",
       "\n",
       "    .dataframe tbody tr th {\n",
       "        vertical-align: top;\n",
       "    }\n",
       "\n",
       "    .dataframe thead th {\n",
       "        text-align: right;\n",
       "    }\n",
       "</style>\n",
       "<table border=\"1\" class=\"dataframe\">\n",
       "  <thead>\n",
       "    <tr style=\"text-align: right;\">\n",
       "      <th></th>\n",
       "      <th>id</th>\n",
       "      <th>limit_bal</th>\n",
       "      <th>sex</th>\n",
       "      <th>education</th>\n",
       "      <th>marriage</th>\n",
       "      <th>age</th>\n",
       "      <th>pay_1</th>\n",
       "      <th>pay_2</th>\n",
       "      <th>pay_3</th>\n",
       "      <th>pay_4</th>\n",
       "      <th>...</th>\n",
       "      <th>bill_amt6</th>\n",
       "      <th>pay_amt1</th>\n",
       "      <th>pay_amt2</th>\n",
       "      <th>pay_amt3</th>\n",
       "      <th>pay_amt4</th>\n",
       "      <th>pay_amt5</th>\n",
       "      <th>pay_amt6</th>\n",
       "      <th>next_month</th>\n",
       "      <th>age_range</th>\n",
       "      <th>limit_range</th>\n",
       "    </tr>\n",
       "  </thead>\n",
       "  <tbody>\n",
       "    <tr>\n",
       "      <th>0</th>\n",
       "      <td>1</td>\n",
       "      <td>20000.0</td>\n",
       "      <td>2</td>\n",
       "      <td>2</td>\n",
       "      <td>1</td>\n",
       "      <td>24</td>\n",
       "      <td>2</td>\n",
       "      <td>2</td>\n",
       "      <td>-1</td>\n",
       "      <td>-1</td>\n",
       "      <td>...</td>\n",
       "      <td>0.0</td>\n",
       "      <td>0.0</td>\n",
       "      <td>689.0</td>\n",
       "      <td>0.0</td>\n",
       "      <td>0.0</td>\n",
       "      <td>0.0</td>\n",
       "      <td>0.0</td>\n",
       "      <td>1</td>\n",
       "      <td>20-29</td>\n",
       "      <td>0-50000</td>\n",
       "    </tr>\n",
       "    <tr>\n",
       "      <th>1</th>\n",
       "      <td>2</td>\n",
       "      <td>120000.0</td>\n",
       "      <td>2</td>\n",
       "      <td>2</td>\n",
       "      <td>2</td>\n",
       "      <td>26</td>\n",
       "      <td>-1</td>\n",
       "      <td>2</td>\n",
       "      <td>0</td>\n",
       "      <td>0</td>\n",
       "      <td>...</td>\n",
       "      <td>3261.0</td>\n",
       "      <td>0.0</td>\n",
       "      <td>1000.0</td>\n",
       "      <td>1000.0</td>\n",
       "      <td>1000.0</td>\n",
       "      <td>0.0</td>\n",
       "      <td>2000.0</td>\n",
       "      <td>1</td>\n",
       "      <td>20-29</td>\n",
       "      <td>100000-150000</td>\n",
       "    </tr>\n",
       "    <tr>\n",
       "      <th>2</th>\n",
       "      <td>3</td>\n",
       "      <td>90000.0</td>\n",
       "      <td>2</td>\n",
       "      <td>2</td>\n",
       "      <td>2</td>\n",
       "      <td>34</td>\n",
       "      <td>0</td>\n",
       "      <td>0</td>\n",
       "      <td>0</td>\n",
       "      <td>0</td>\n",
       "      <td>...</td>\n",
       "      <td>15549.0</td>\n",
       "      <td>1518.0</td>\n",
       "      <td>1500.0</td>\n",
       "      <td>1000.0</td>\n",
       "      <td>1000.0</td>\n",
       "      <td>1000.0</td>\n",
       "      <td>5000.0</td>\n",
       "      <td>0</td>\n",
       "      <td>30-39</td>\n",
       "      <td>50000-100000</td>\n",
       "    </tr>\n",
       "    <tr>\n",
       "      <th>3</th>\n",
       "      <td>4</td>\n",
       "      <td>50000.0</td>\n",
       "      <td>2</td>\n",
       "      <td>2</td>\n",
       "      <td>1</td>\n",
       "      <td>37</td>\n",
       "      <td>0</td>\n",
       "      <td>0</td>\n",
       "      <td>0</td>\n",
       "      <td>0</td>\n",
       "      <td>...</td>\n",
       "      <td>29547.0</td>\n",
       "      <td>2000.0</td>\n",
       "      <td>2019.0</td>\n",
       "      <td>1200.0</td>\n",
       "      <td>1100.0</td>\n",
       "      <td>1069.0</td>\n",
       "      <td>1000.0</td>\n",
       "      <td>0</td>\n",
       "      <td>30-39</td>\n",
       "      <td>50000-100000</td>\n",
       "    </tr>\n",
       "    <tr>\n",
       "      <th>4</th>\n",
       "      <td>5</td>\n",
       "      <td>50000.0</td>\n",
       "      <td>1</td>\n",
       "      <td>2</td>\n",
       "      <td>1</td>\n",
       "      <td>57</td>\n",
       "      <td>-1</td>\n",
       "      <td>0</td>\n",
       "      <td>-1</td>\n",
       "      <td>0</td>\n",
       "      <td>...</td>\n",
       "      <td>19131.0</td>\n",
       "      <td>2000.0</td>\n",
       "      <td>36681.0</td>\n",
       "      <td>10000.0</td>\n",
       "      <td>9000.0</td>\n",
       "      <td>689.0</td>\n",
       "      <td>679.0</td>\n",
       "      <td>0</td>\n",
       "      <td>50-59</td>\n",
       "      <td>50000-100000</td>\n",
       "    </tr>\n",
       "  </tbody>\n",
       "</table>\n",
       "<p>5 rows × 27 columns</p>\n",
       "</div>"
      ],
      "text/plain": [
       "   id  limit_bal  sex  education  marriage  age  pay_1  pay_2  pay_3  pay_4  \\\n",
       "0   1    20000.0    2          2         1   24      2      2     -1     -1   \n",
       "1   2   120000.0    2          2         2   26     -1      2      0      0   \n",
       "2   3    90000.0    2          2         2   34      0      0      0      0   \n",
       "3   4    50000.0    2          2         1   37      0      0      0      0   \n",
       "4   5    50000.0    1          2         1   57     -1      0     -1      0   \n",
       "\n",
       "   ...  bill_amt6  pay_amt1  pay_amt2  pay_amt3  pay_amt4  pay_amt5  pay_amt6  \\\n",
       "0  ...        0.0       0.0     689.0       0.0       0.0       0.0       0.0   \n",
       "1  ...     3261.0       0.0    1000.0    1000.0    1000.0       0.0    2000.0   \n",
       "2  ...    15549.0    1518.0    1500.0    1000.0    1000.0    1000.0    5000.0   \n",
       "3  ...    29547.0    2000.0    2019.0    1200.0    1100.0    1069.0    1000.0   \n",
       "4  ...    19131.0    2000.0   36681.0   10000.0    9000.0     689.0     679.0   \n",
       "\n",
       "   next_month  age_range    limit_range  \n",
       "0           1      20-29        0-50000  \n",
       "1           1      20-29  100000-150000  \n",
       "2           0      30-39   50000-100000  \n",
       "3           0      30-39   50000-100000  \n",
       "4           0      50-59   50000-100000  \n",
       "\n",
       "[5 rows x 27 columns]"
      ]
     },
     "execution_count": 162,
     "metadata": {},
     "output_type": "execute_result"
    }
   ],
   "source": [
    "df.head()"
   ]
  },
  {
   "cell_type": "code",
   "execution_count": 163,
   "metadata": {},
   "outputs": [
    {
     "data": {
      "text/plain": [
       "<matplotlib.axes._subplots.AxesSubplot at 0x21189af5490>"
      ]
     },
     "execution_count": 163,
     "metadata": {},
     "output_type": "execute_result"
    },
    {
     "data": {
      "image/png": "[encoded data removed]",
      "text/plain": [
       "<Figure size 1440x720 with 1 Axes>"
      ]
     },
     "metadata": {},
     "output_type": "display_data"
    }
   ],
   "source": [
    "sns.set(rc={'figure.figsize':(20,10)})\n",
    "sns.countplot(x='limit_range',hue='next_month',data=df)"
   ]
  },
  {
   "cell_type": "code",
   "execution_count": 164,
   "metadata": {},
   "outputs": [
    {
     "data": {
      "text/html": [
       "<div>\n",
       "<style scoped>\n",
       "    .dataframe tbody tr th:only-of-type {\n",
       "        vertical-align: middle;\n",
       "    }\n",
       "\n",
       "    .dataframe tbody tr th {\n",
       "        vertical-align: top;\n",
       "    }\n",
       "\n",
       "    .dataframe thead th {\n",
       "        text-align: right;\n",
       "    }\n",
       "</style>\n",
       "<table border=\"1\" class=\"dataframe\">\n",
       "  <thead>\n",
       "    <tr style=\"text-align: right;\">\n",
       "      <th></th>\n",
       "      <th>limit_range</th>\n",
       "      <th>not default</th>\n",
       "      <th>default</th>\n",
       "      <th>total</th>\n",
       "    </tr>\n",
       "  </thead>\n",
       "  <tbody>\n",
       "    <tr>\n",
       "      <th>0</th>\n",
       "      <td>0-50000</td>\n",
       "      <td>2756</td>\n",
       "      <td>1555</td>\n",
       "      <td>4311</td>\n",
       "    </tr>\n",
       "    <tr>\n",
       "      <th>1</th>\n",
       "      <td>100000-150000</td>\n",
       "      <td>2930</td>\n",
       "      <td>910</td>\n",
       "      <td>3840</td>\n",
       "    </tr>\n",
       "    <tr>\n",
       "      <th>2</th>\n",
       "      <td>150000-200000</td>\n",
       "      <td>2933</td>\n",
       "      <td>627</td>\n",
       "      <td>3560</td>\n",
       "    </tr>\n",
       "    <tr>\n",
       "      <th>3</th>\n",
       "      <td>200000-250000</td>\n",
       "      <td>3384</td>\n",
       "      <td>699</td>\n",
       "      <td>4083</td>\n",
       "    </tr>\n",
       "    <tr>\n",
       "      <th>4</th>\n",
       "      <td>50000-100000</td>\n",
       "      <td>5282</td>\n",
       "      <td>1857</td>\n",
       "      <td>7139</td>\n",
       "    </tr>\n",
       "    <tr>\n",
       "      <th>5</th>\n",
       "      <td>above 250000</td>\n",
       "      <td>6079</td>\n",
       "      <td>988</td>\n",
       "      <td>7067</td>\n",
       "    </tr>\n",
       "  </tbody>\n",
       "</table>\n",
       "</div>"
      ],
      "text/plain": [
       "     limit_range  not default  default  total\n",
       "0        0-50000         2756     1555   4311\n",
       "1  100000-150000         2930      910   3840\n",
       "2  150000-200000         2933      627   3560\n",
       "3  200000-250000         3384      699   4083\n",
       "4   50000-100000         5282     1857   7139\n",
       "5   above 250000         6079      988   7067"
      ]
     },
     "execution_count": 164,
     "metadata": {},
     "output_type": "execute_result"
    }
   ],
   "source": [
    "limit_0=df.groupby(df['limit_range'][df['next_month']==0]).size().reset_index(name='not default')\n",
    "limit_1=df.groupby(df['limit_range'][df['next_month']==1]).size().reset_index(name='default')\n",
    "limit_2=df.groupby(df['limit_range']).size().reset_index(name='total')\n",
    "limit=limit_0.join(limit_1.set_index('limit_range'),on='limit_range').join(limit_2.set_index('limit_range'),on='limit_range')\n",
    "limit"
   ]
  },
  {
   "cell_type": "code",
   "execution_count": 165,
   "metadata": {},
   "outputs": [
    {
     "data": {
      "text/html": [
       "<div>\n",
       "<style scoped>\n",
       "    .dataframe tbody tr th:only-of-type {\n",
       "        vertical-align: middle;\n",
       "    }\n",
       "\n",
       "    .dataframe tbody tr th {\n",
       "        vertical-align: top;\n",
       "    }\n",
       "\n",
       "    .dataframe thead th {\n",
       "        text-align: right;\n",
       "    }\n",
       "</style>\n",
       "<table border=\"1\" class=\"dataframe\">\n",
       "  <thead>\n",
       "    <tr style=\"text-align: right;\">\n",
       "      <th></th>\n",
       "      <th>limit_range</th>\n",
       "      <th>not_default_percent(%)</th>\n",
       "      <th>default_percent(%)</th>\n",
       "    </tr>\n",
       "  </thead>\n",
       "  <tbody>\n",
       "    <tr>\n",
       "      <th>0</th>\n",
       "      <td>0-50000</td>\n",
       "      <td>77.16</td>\n",
       "      <td>22.84</td>\n",
       "    </tr>\n",
       "    <tr>\n",
       "      <th>1</th>\n",
       "      <td>100000-150000</td>\n",
       "      <td>79.75</td>\n",
       "      <td>20.25</td>\n",
       "    </tr>\n",
       "    <tr>\n",
       "      <th>2</th>\n",
       "      <td>150000-200000</td>\n",
       "      <td>77.03</td>\n",
       "      <td>22.97</td>\n",
       "    </tr>\n",
       "    <tr>\n",
       "      <th>3</th>\n",
       "      <td>200000-250000</td>\n",
       "      <td>75.14</td>\n",
       "      <td>24.86</td>\n",
       "    </tr>\n",
       "    <tr>\n",
       "      <th>4</th>\n",
       "      <td>50000-100000</td>\n",
       "      <td>71.66</td>\n",
       "      <td>28.34</td>\n",
       "    </tr>\n",
       "    <tr>\n",
       "      <th>5</th>\n",
       "      <td>above 250000</td>\n",
       "      <td>72.00</td>\n",
       "      <td>28.00</td>\n",
       "    </tr>\n",
       "  </tbody>\n",
       "</table>\n",
       "</div>"
      ],
      "text/plain": [
       "     limit_range  not_default_percent(%)  default_percent(%)\n",
       "0        0-50000                   77.16               22.84\n",
       "1  100000-150000                   79.75               20.25\n",
       "2  150000-200000                   77.03               22.97\n",
       "3  200000-250000                   75.14               24.86\n",
       "4   50000-100000                   71.66               28.34\n",
       "5   above 250000                   72.00               28.00"
      ]
     },
     "execution_count": 165,
     "metadata": {},
     "output_type": "execute_result"
    }
   ],
   "source": [
    "limit['not_default_percent(%)']=round(age['not default']/age['total']*100,2)\n",
    "limit['default_percent(%)']=round(age['default']/age['total']*100,2)\n",
    "limit_def=limit.iloc[:,[0,4,5]]\n",
    "limit_def"
   ]
  },
  {
   "cell_type": "code",
   "execution_count": 166,
   "metadata": {},
   "outputs": [
    {
     "data": {
      "text/html": [
       "<div>\n",
       "<style scoped>\n",
       "    .dataframe tbody tr th:only-of-type {\n",
       "        vertical-align: middle;\n",
       "    }\n",
       "\n",
       "    .dataframe tbody tr th {\n",
       "        vertical-align: top;\n",
       "    }\n",
       "\n",
       "    .dataframe thead th {\n",
       "        text-align: right;\n",
       "    }\n",
       "</style>\n",
       "<table border=\"1\" class=\"dataframe\">\n",
       "  <thead>\n",
       "    <tr style=\"text-align: right;\">\n",
       "      <th>sex</th>\n",
       "      <th>boy</th>\n",
       "      <th>girl</th>\n",
       "    </tr>\n",
       "    <tr>\n",
       "      <th>marriage</th>\n",
       "      <th></th>\n",
       "      <th></th>\n",
       "    </tr>\n",
       "  </thead>\n",
       "  <tbody>\n",
       "    <tr>\n",
       "      <th>marriage</th>\n",
       "      <td>1346</td>\n",
       "      <td>1860</td>\n",
       "    </tr>\n",
       "    <tr>\n",
       "      <th>single</th>\n",
       "      <td>1485</td>\n",
       "      <td>1856</td>\n",
       "    </tr>\n",
       "    <tr>\n",
       "      <th>other</th>\n",
       "      <td>42</td>\n",
       "      <td>47</td>\n",
       "    </tr>\n",
       "  </tbody>\n",
       "</table>\n",
       "</div>"
      ],
      "text/plain": [
       "sex        boy  girl\n",
       "marriage            \n",
       "marriage  1346  1860\n",
       "single    1485  1856\n",
       "other       42    47"
      ]
     },
     "execution_count": 166,
     "metadata": {},
     "output_type": "execute_result"
    }
   ],
   "source": [
    "sex_marriage = df[df['next_month']==1].groupby([df['marriage'],df['sex']]).size().unstack()\n",
    "sex_marriage.rename(index={1:\"marriage\",2:\"single\",3:\"other\"} ,columns={1:\"boy\",2:\"girl\"} , inplace=True)\n",
    "sex_marriage\n"
   ]
  },
  {
   "cell_type": "code",
   "execution_count": 167,
   "metadata": {},
   "outputs": [
    {
     "data": {
      "text/html": [
       "<div>\n",
       "<style scoped>\n",
       "    .dataframe tbody tr th:only-of-type {\n",
       "        vertical-align: middle;\n",
       "    }\n",
       "\n",
       "    .dataframe tbody tr th {\n",
       "        vertical-align: top;\n",
       "    }\n",
       "\n",
       "    .dataframe thead th {\n",
       "        text-align: right;\n",
       "    }\n",
       "</style>\n",
       "<table border=\"1\" class=\"dataframe\">\n",
       "  <thead>\n",
       "    <tr style=\"text-align: right;\">\n",
       "      <th>sex</th>\n",
       "      <th>boy</th>\n",
       "      <th>girl</th>\n",
       "      <th>total</th>\n",
       "      <th>boy_percent</th>\n",
       "      <th>girl_percent</th>\n",
       "    </tr>\n",
       "    <tr>\n",
       "      <th>marriage</th>\n",
       "      <th></th>\n",
       "      <th></th>\n",
       "      <th></th>\n",
       "      <th></th>\n",
       "      <th></th>\n",
       "    </tr>\n",
       "  </thead>\n",
       "  <tbody>\n",
       "    <tr>\n",
       "      <th>marriage</th>\n",
       "      <td>1346</td>\n",
       "      <td>1860</td>\n",
       "      <td>3206</td>\n",
       "      <td>0.419838</td>\n",
       "      <td>0.580162</td>\n",
       "    </tr>\n",
       "    <tr>\n",
       "      <th>single</th>\n",
       "      <td>1485</td>\n",
       "      <td>1856</td>\n",
       "      <td>3341</td>\n",
       "      <td>0.444478</td>\n",
       "      <td>0.555522</td>\n",
       "    </tr>\n",
       "    <tr>\n",
       "      <th>other</th>\n",
       "      <td>42</td>\n",
       "      <td>47</td>\n",
       "      <td>89</td>\n",
       "      <td>0.471910</td>\n",
       "      <td>0.528090</td>\n",
       "    </tr>\n",
       "  </tbody>\n",
       "</table>\n",
       "</div>"
      ],
      "text/plain": [
       "sex        boy  girl  total  boy_percent  girl_percent\n",
       "marriage                                              \n",
       "marriage  1346  1860   3206     0.419838      0.580162\n",
       "single    1485  1856   3341     0.444478      0.555522\n",
       "other       42    47     89     0.471910      0.528090"
      ]
     },
     "execution_count": 167,
     "metadata": {},
     "output_type": "execute_result"
    }
   ],
   "source": [
    "sex_marriage['total']=sex_marriage['boy']+sex_marriage['girl']\n",
    "sex_marriage['boy_percent']=sex_marriage['boy']/sex_marriage['total']\n",
    "sex_marriage['girl_percent']=sex_marriage['girl']/sex_marriage['total']\n",
    "sex_marriage"
   ]
  },
  {
   "cell_type": "code",
   "execution_count": 168,
   "metadata": {},
   "outputs": [
    {
     "data": {
      "image/png": "[encoded data removed]",
      "text/plain": [
       "<Figure size 1080x504 with 1 Axes>"
      ]
     },
     "metadata": {},
     "output_type": "display_data"
    }
   ],
   "source": [
    "sns.set(rc={'figure.figsize':(15,7)})\n",
    "sns.set_context(\"talk\", font_scale=0.8)\n",
    "\n",
    "pay1 = sns.countplot(y=\"pay_1\", hue='next_month', data=df)\n",
    "pay1.set_yticklabels(['no_spending','pay_finish','use_revolgin_credit','delay_1_month','delay_2_month'\n",
    "                   ,'delay_3_month','delay_3_month','delay_5_month','delay_6_month','delay_7_month','delay_8_month'])\n",
    "pay1.set_title('credit behavior')\n",
    "\n",
    "plt.show()"
   ]
  },
  {
   "cell_type": "code",
   "execution_count": 169,
   "metadata": {},
   "outputs": [
    {
     "data": {
      "text/html": [
       "<div>\n",
       "<style scoped>\n",
       "    .dataframe tbody tr th:only-of-type {\n",
       "        vertical-align: middle;\n",
       "    }\n",
       "\n",
       "    .dataframe tbody tr th {\n",
       "        vertical-align: top;\n",
       "    }\n",
       "\n",
       "    .dataframe thead th {\n",
       "        text-align: right;\n",
       "    }\n",
       "</style>\n",
       "<table border=\"1\" class=\"dataframe\">\n",
       "  <thead>\n",
       "    <tr style=\"text-align: right;\">\n",
       "      <th></th>\n",
       "      <th>pay_1</th>\n",
       "      <th>not_default</th>\n",
       "      <th>default</th>\n",
       "      <th>total</th>\n",
       "    </tr>\n",
       "  </thead>\n",
       "  <tbody>\n",
       "    <tr>\n",
       "      <th>0</th>\n",
       "      <td>no_spending</td>\n",
       "      <td>2394</td>\n",
       "      <td>365</td>\n",
       "      <td>2759</td>\n",
       "    </tr>\n",
       "    <tr>\n",
       "      <th>1</th>\n",
       "      <td>pay_finish</td>\n",
       "      <td>4732</td>\n",
       "      <td>954</td>\n",
       "      <td>5686</td>\n",
       "    </tr>\n",
       "    <tr>\n",
       "      <th>2</th>\n",
       "      <td>use_revolgin_credit</td>\n",
       "      <td>12849</td>\n",
       "      <td>1888</td>\n",
       "      <td>14737</td>\n",
       "    </tr>\n",
       "    <tr>\n",
       "      <th>3</th>\n",
       "      <td>delay_1_month</td>\n",
       "      <td>2436</td>\n",
       "      <td>1252</td>\n",
       "      <td>3688</td>\n",
       "    </tr>\n",
       "    <tr>\n",
       "      <th>4</th>\n",
       "      <td>delay_2_month</td>\n",
       "      <td>823</td>\n",
       "      <td>1844</td>\n",
       "      <td>2667</td>\n",
       "    </tr>\n",
       "    <tr>\n",
       "      <th>5</th>\n",
       "      <td>delay_3_month</td>\n",
       "      <td>78</td>\n",
       "      <td>244</td>\n",
       "      <td>322</td>\n",
       "    </tr>\n",
       "    <tr>\n",
       "      <th>6</th>\n",
       "      <td>delay_3_month</td>\n",
       "      <td>24</td>\n",
       "      <td>52</td>\n",
       "      <td>76</td>\n",
       "    </tr>\n",
       "    <tr>\n",
       "      <th>7</th>\n",
       "      <td>delay_5_month</td>\n",
       "      <td>13</td>\n",
       "      <td>13</td>\n",
       "      <td>26</td>\n",
       "    </tr>\n",
       "    <tr>\n",
       "      <th>8</th>\n",
       "      <td>delay_6_month</td>\n",
       "      <td>5</td>\n",
       "      <td>6</td>\n",
       "      <td>11</td>\n",
       "    </tr>\n",
       "    <tr>\n",
       "      <th>9</th>\n",
       "      <td>delay_7_month</td>\n",
       "      <td>2</td>\n",
       "      <td>7</td>\n",
       "      <td>9</td>\n",
       "    </tr>\n",
       "    <tr>\n",
       "      <th>10</th>\n",
       "      <td>delay_8_month</td>\n",
       "      <td>8</td>\n",
       "      <td>11</td>\n",
       "      <td>19</td>\n",
       "    </tr>\n",
       "  </tbody>\n",
       "</table>\n",
       "</div>"
      ],
      "text/plain": [
       "                  pay_1  not_default  default  total\n",
       "0           no_spending         2394      365   2759\n",
       "1            pay_finish         4732      954   5686\n",
       "2   use_revolgin_credit        12849     1888  14737\n",
       "3         delay_1_month         2436     1252   3688\n",
       "4         delay_2_month          823     1844   2667\n",
       "5         delay_3_month           78      244    322\n",
       "6         delay_3_month           24       52     76\n",
       "7         delay_5_month           13       13     26\n",
       "8         delay_6_month            5        6     11\n",
       "9         delay_7_month            2        7      9\n",
       "10        delay_8_month            8       11     19"
      ]
     },
     "execution_count": 169,
     "metadata": {},
     "output_type": "execute_result"
    }
   ],
   "source": [
    "delay_1 = df.groupby(df['pay_1'][df['next_month'] == 0]).size().reset_index(name='not_default')\n",
    "delay_2 = df.groupby(df['pay_1'][df['next_month'] == 1]).size().reset_index(name='default')\n",
    "total = df.groupby('pay_1').size().reset_index(name='total')\n",
    "\n",
    "pay_1_table = delay_1.join(delay_2['default']).join(total['total'])\n",
    "pay_1_table['pay_1'] = ['no_spending','pay_finish','use_revolgin_credit','delay_1_month','delay_2_month'\n",
    "                   ,'delay_3_month','delay_3_month','delay_5_month','delay_6_month','delay_7_month','delay_8_month']\n",
    "\n",
    "pay_1_table"
   ]
  },
  {
   "cell_type": "code",
   "execution_count": 170,
   "metadata": {},
   "outputs": [],
   "source": [
    "pay_1_table['default'] = round((delay_2['default']/total['total'])*100,2)\n",
    "pay_1_table['not_default'] = round((delay_1['not_default']/total['total'])*100,2)\n",
    "\n"
   ]
  },
  {
   "cell_type": "code",
   "execution_count": 171,
   "metadata": {},
   "outputs": [
    {
     "data": {
      "text/html": [
       "<div>\n",
       "<style scoped>\n",
       "    .dataframe tbody tr th:only-of-type {\n",
       "        vertical-align: middle;\n",
       "    }\n",
       "\n",
       "    .dataframe tbody tr th {\n",
       "        vertical-align: top;\n",
       "    }\n",
       "\n",
       "    .dataframe thead th {\n",
       "        text-align: right;\n",
       "    }\n",
       "</style>\n",
       "<table border=\"1\" class=\"dataframe\">\n",
       "  <thead>\n",
       "    <tr style=\"text-align: right;\">\n",
       "      <th></th>\n",
       "      <th>pay_1</th>\n",
       "      <th>not_default</th>\n",
       "      <th>default</th>\n",
       "    </tr>\n",
       "  </thead>\n",
       "  <tbody>\n",
       "    <tr>\n",
       "      <th>0</th>\n",
       "      <td>no_spending</td>\n",
       "      <td>86.77</td>\n",
       "      <td>13.23</td>\n",
       "    </tr>\n",
       "    <tr>\n",
       "      <th>1</th>\n",
       "      <td>pay_finish</td>\n",
       "      <td>83.22</td>\n",
       "      <td>16.78</td>\n",
       "    </tr>\n",
       "    <tr>\n",
       "      <th>2</th>\n",
       "      <td>use_revolgin_credit</td>\n",
       "      <td>87.19</td>\n",
       "      <td>12.81</td>\n",
       "    </tr>\n",
       "    <tr>\n",
       "      <th>3</th>\n",
       "      <td>delay_1_month</td>\n",
       "      <td>66.05</td>\n",
       "      <td>33.95</td>\n",
       "    </tr>\n",
       "    <tr>\n",
       "      <th>4</th>\n",
       "      <td>delay_2_month</td>\n",
       "      <td>30.86</td>\n",
       "      <td>69.14</td>\n",
       "    </tr>\n",
       "    <tr>\n",
       "      <th>5</th>\n",
       "      <td>delay_3_month</td>\n",
       "      <td>24.22</td>\n",
       "      <td>75.78</td>\n",
       "    </tr>\n",
       "    <tr>\n",
       "      <th>6</th>\n",
       "      <td>delay_3_month</td>\n",
       "      <td>31.58</td>\n",
       "      <td>68.42</td>\n",
       "    </tr>\n",
       "    <tr>\n",
       "      <th>7</th>\n",
       "      <td>delay_5_month</td>\n",
       "      <td>50.00</td>\n",
       "      <td>50.00</td>\n",
       "    </tr>\n",
       "    <tr>\n",
       "      <th>8</th>\n",
       "      <td>delay_6_month</td>\n",
       "      <td>45.45</td>\n",
       "      <td>54.55</td>\n",
       "    </tr>\n",
       "    <tr>\n",
       "      <th>9</th>\n",
       "      <td>delay_7_month</td>\n",
       "      <td>22.22</td>\n",
       "      <td>77.78</td>\n",
       "    </tr>\n",
       "    <tr>\n",
       "      <th>10</th>\n",
       "      <td>delay_8_month</td>\n",
       "      <td>42.11</td>\n",
       "      <td>57.89</td>\n",
       "    </tr>\n",
       "  </tbody>\n",
       "</table>\n",
       "</div>"
      ],
      "text/plain": [
       "                  pay_1  not_default  default\n",
       "0           no_spending        86.77    13.23\n",
       "1            pay_finish        83.22    16.78\n",
       "2   use_revolgin_credit        87.19    12.81\n",
       "3         delay_1_month        66.05    33.95\n",
       "4         delay_2_month        30.86    69.14\n",
       "5         delay_3_month        24.22    75.78\n",
       "6         delay_3_month        31.58    68.42\n",
       "7         delay_5_month        50.00    50.00\n",
       "8         delay_6_month        45.45    54.55\n",
       "9         delay_7_month        22.22    77.78\n",
       "10        delay_8_month        42.11    57.89"
      ]
     },
     "execution_count": 171,
     "metadata": {},
     "output_type": "execute_result"
    }
   ],
   "source": [
    "pay_1_pct = pay_1_table.iloc[:,0:3]\n",
    "pay_1_pct = pay_1_pct.rename(columns={'NOT_DEFAULT': 'NOT_DEFAULT(%)', 'DEFAULT': 'DEFAULT(%)'})\n",
    "\n",
    "pay_1_pct"
   ]
  },
  {
   "cell_type": "code",
   "execution_count": 172,
   "metadata": {},
   "outputs": [
    {
     "data": {
      "text/plain": [
       "Text(0.5, 0, 'percent')"
      ]
     },
     "execution_count": 172,
     "metadata": {},
     "output_type": "execute_result"
    },
    {
     "data": {
      "image/png": "[encoded data removed]",
      "text/plain": [
       "<Figure size 720x432 with 1 Axes>"
      ]
     },
     "metadata": {},
     "output_type": "display_data"
    }
   ],
   "source": [
    "sns.set(rc={'figure.figsize':(10,6)})\n",
    "sns.set_context('talk',font_scale=0.8)\n",
    "ax = pay_1_pct.sort_index(ascending=False).plot(x='pay_1', kind='barh', stacked=True, title='Credit Behaviour vs. Default')\n",
    "ax.set_xlabel('percent')"
   ]
  },
  {
   "cell_type": "markdown",
   "metadata": {},
   "source": [
    "**觀察到延期付款後違約機率開始大增，尤其從2個月開始違約比率大的誇張幾乎都高於50%**"
   ]
  },
  {
   "cell_type": "markdown",
   "metadata": {},
   "source": [
    "**總結，pay1-pay6與違約相關係數較大顯是這部分每位消費者的此狀況需要注意**\n",
    "\n",
    "**尤其延遲付款超過2個月，違約機率大增是否後續就需要馬上先暫付信用卡功能需要討論**\n",
    "\n",
    "**離婚違約者與女性和高中生皆有更大的違約機率，未來若類似消費者辦卡需要謹慎給予花費額度**\n",
    "\n",
    "**20-40尚未結婚年齡層消費潛力較大可針對此族群給予更多優惠活動刺激買氣**"
   ]
  },
  {
   "cell_type": "code",
   "execution_count": 173,
   "metadata": {},
   "outputs": [
    {
     "name": "stdout",
     "output_type": "stream",
     "text": [
      "<class 'pandas.core.frame.DataFrame'>\n",
      "RangeIndex: 30000 entries, 0 to 29999\n",
      "Data columns (total 27 columns):\n",
      " #   Column       Non-Null Count  Dtype  \n",
      "---  ------       --------------  -----  \n",
      " 0   id           30000 non-null  int64  \n",
      " 1   limit_bal    30000 non-null  float64\n",
      " 2   sex          30000 non-null  int64  \n",
      " 3   education    30000 non-null  int64  \n",
      " 4   marriage     30000 non-null  int64  \n",
      " 5   age          30000 non-null  int64  \n",
      " 6   pay_1        30000 non-null  int64  \n",
      " 7   pay_2        30000 non-null  int64  \n",
      " 8   pay_3        30000 non-null  int64  \n",
      " 9   pay_4        30000 non-null  int64  \n",
      " 10  pay_5        30000 non-null  int64  \n",
      " 11  pay_6        30000 non-null  int64  \n",
      " 12  bill_amt1    30000 non-null  float64\n",
      " 13  bill_amt2    30000 non-null  float64\n",
      " 14  bill_amt3    30000 non-null  float64\n",
      " 15  bill_amt4    30000 non-null  float64\n",
      " 16  bill_amt5    30000 non-null  float64\n",
      " 17  bill_amt6    30000 non-null  float64\n",
      " 18  pay_amt1     30000 non-null  float64\n",
      " 19  pay_amt2     30000 non-null  float64\n",
      " 20  pay_amt3     30000 non-null  float64\n",
      " 21  pay_amt4     30000 non-null  float64\n",
      " 22  pay_amt5     30000 non-null  float64\n",
      " 23  pay_amt6     30000 non-null  float64\n",
      " 24  next_month   30000 non-null  int64  \n",
      " 25  age_range    30000 non-null  object \n",
      " 26  limit_range  30000 non-null  object \n",
      "dtypes: float64(13), int64(12), object(2)\n",
      "memory usage: 6.2+ MB\n"
     ]
    }
   ],
   "source": [
    "df.info()"
   ]
  },
  {
   "cell_type": "code",
   "execution_count": 174,
   "metadata": {},
   "outputs": [],
   "source": [
    "education_df = pd.get_dummies(df['education'],prefix='education')"
   ]
  },
  {
   "cell_type": "code",
   "execution_count": 175,
   "metadata": {},
   "outputs": [
    {
     "data": {
      "text/html": [
       "<div>\n",
       "<style scoped>\n",
       "    .dataframe tbody tr th:only-of-type {\n",
       "        vertical-align: middle;\n",
       "    }\n",
       "\n",
       "    .dataframe tbody tr th {\n",
       "        vertical-align: top;\n",
       "    }\n",
       "\n",
       "    .dataframe thead th {\n",
       "        text-align: right;\n",
       "    }\n",
       "</style>\n",
       "<table border=\"1\" class=\"dataframe\">\n",
       "  <thead>\n",
       "    <tr style=\"text-align: right;\">\n",
       "      <th></th>\n",
       "      <th>education_0</th>\n",
       "      <th>education_1</th>\n",
       "      <th>education_2</th>\n",
       "      <th>education_3</th>\n",
       "    </tr>\n",
       "  </thead>\n",
       "  <tbody>\n",
       "    <tr>\n",
       "      <th>0</th>\n",
       "      <td>0</td>\n",
       "      <td>0</td>\n",
       "      <td>1</td>\n",
       "      <td>0</td>\n",
       "    </tr>\n",
       "    <tr>\n",
       "      <th>1</th>\n",
       "      <td>0</td>\n",
       "      <td>0</td>\n",
       "      <td>1</td>\n",
       "      <td>0</td>\n",
       "    </tr>\n",
       "    <tr>\n",
       "      <th>2</th>\n",
       "      <td>0</td>\n",
       "      <td>0</td>\n",
       "      <td>1</td>\n",
       "      <td>0</td>\n",
       "    </tr>\n",
       "    <tr>\n",
       "      <th>3</th>\n",
       "      <td>0</td>\n",
       "      <td>0</td>\n",
       "      <td>1</td>\n",
       "      <td>0</td>\n",
       "    </tr>\n",
       "    <tr>\n",
       "      <th>4</th>\n",
       "      <td>0</td>\n",
       "      <td>0</td>\n",
       "      <td>1</td>\n",
       "      <td>0</td>\n",
       "    </tr>\n",
       "    <tr>\n",
       "      <th>...</th>\n",
       "      <td>...</td>\n",
       "      <td>...</td>\n",
       "      <td>...</td>\n",
       "      <td>...</td>\n",
       "    </tr>\n",
       "    <tr>\n",
       "      <th>29995</th>\n",
       "      <td>0</td>\n",
       "      <td>0</td>\n",
       "      <td>0</td>\n",
       "      <td>1</td>\n",
       "    </tr>\n",
       "    <tr>\n",
       "      <th>29996</th>\n",
       "      <td>0</td>\n",
       "      <td>0</td>\n",
       "      <td>0</td>\n",
       "      <td>1</td>\n",
       "    </tr>\n",
       "    <tr>\n",
       "      <th>29997</th>\n",
       "      <td>0</td>\n",
       "      <td>0</td>\n",
       "      <td>1</td>\n",
       "      <td>0</td>\n",
       "    </tr>\n",
       "    <tr>\n",
       "      <th>29998</th>\n",
       "      <td>0</td>\n",
       "      <td>0</td>\n",
       "      <td>0</td>\n",
       "      <td>1</td>\n",
       "    </tr>\n",
       "    <tr>\n",
       "      <th>29999</th>\n",
       "      <td>0</td>\n",
       "      <td>0</td>\n",
       "      <td>1</td>\n",
       "      <td>0</td>\n",
       "    </tr>\n",
       "  </tbody>\n",
       "</table>\n",
       "<p>30000 rows × 4 columns</p>\n",
       "</div>"
      ],
      "text/plain": [
       "       education_0  education_1  education_2  education_3\n",
       "0                0            0            1            0\n",
       "1                0            0            1            0\n",
       "2                0            0            1            0\n",
       "3                0            0            1            0\n",
       "4                0            0            1            0\n",
       "...            ...          ...          ...          ...\n",
       "29995            0            0            0            1\n",
       "29996            0            0            0            1\n",
       "29997            0            0            1            0\n",
       "29998            0            0            0            1\n",
       "29999            0            0            1            0\n",
       "\n",
       "[30000 rows x 4 columns]"
      ]
     },
     "execution_count": 175,
     "metadata": {},
     "output_type": "execute_result"
    }
   ],
   "source": [
    "education_df"
   ]
  },
  {
   "cell_type": "code",
   "execution_count": 176,
   "metadata": {},
   "outputs": [],
   "source": [
    "df = pd.concat([df,education_df],axis=1)"
   ]
  },
  {
   "cell_type": "code",
   "execution_count": 177,
   "metadata": {},
   "outputs": [],
   "source": [
    "marriage_df = pd.get_dummies(df['marriage'],prefix='marriage')"
   ]
  },
  {
   "cell_type": "code",
   "execution_count": 178,
   "metadata": {},
   "outputs": [],
   "source": [
    "df = pd.concat([df,marriage_df],axis=1)"
   ]
  },
  {
   "cell_type": "code",
   "execution_count": 179,
   "metadata": {},
   "outputs": [],
   "source": [
    "age_df = pd.get_dummies(df['age_range'],prefix='age_range')\n",
    "df = pd.concat([df,age_df],axis=1)\n"
   ]
  },
  {
   "cell_type": "code",
   "execution_count": 180,
   "metadata": {},
   "outputs": [],
   "source": [
    "limit_df = pd.get_dummies(df['limit_range'],prefix='limit_range')\n",
    "df = pd.concat([df,limit_df],axis=1)"
   ]
  },
  {
   "cell_type": "code",
   "execution_count": 181,
   "metadata": {},
   "outputs": [],
   "source": [
    "df2=df.copy()"
   ]
  },
  {
   "cell_type": "code",
   "execution_count": 185,
   "metadata": {},
   "outputs": [],
   "source": [
    "def sex_x (x):\n",
    "    if x==1:\n",
    "        return 0\n",
    "    if x==2:\n",
    "        return 1\n",
    "df2['sex']=df2['sex'].apply(sex_x)"
   ]
  },
  {
   "cell_type": "code",
   "execution_count": 187,
   "metadata": {},
   "outputs": [],
   "source": [
    "df2.drop(['marriage','education','limit_range','age_range'],axis=1,inplace=True)"
   ]
  },
  {
   "cell_type": "code",
   "execution_count": 189,
   "metadata": {},
   "outputs": [],
   "source": [
    "df3=df2.copy()\n",
    "#嘗試兩種方式進行測試\n",
    "#第一種根據目前相關係數找出正相關係數的指標將這些指標做模型的預測\n",
    "df3corr= df3.corr()"
   ]
  },
  {
   "cell_type": "code",
   "execution_count": 190,
   "metadata": {},
   "outputs": [
    {
     "name": "stdout",
     "output_type": "stream",
     "text": [
      "next_month                   1.000000\n",
      "pay_1                        0.324794\n",
      "pay_2                        0.263551\n",
      "pay_3                        0.235253\n",
      "pay_4                        0.216614\n",
      "pay_5                        0.204149\n",
      "pay_6                        0.186866\n",
      "limit_range_0-50000          0.137689\n",
      "limit_range_50000-100000     0.052401\n",
      "education_2                  0.036467\n",
      "education_3                  0.032403\n",
      "marriage_1                   0.029775\n",
      "age_range_50-59              0.019214\n",
      "age_range_60-69              0.015422\n",
      "limit_range_100000-150000    0.014565\n",
      "age                          0.013890\n",
      "age_range_20-29              0.011959\n",
      "age_range_40-49              0.010775\n",
      "age_range_70-79              0.004091\n",
      "marriage_3                   0.004043\n",
      "bill_amt6                   -0.005372\n",
      "bill_amt5                   -0.006760\n",
      "bill_amt4                   -0.010156\n",
      "id                          -0.013952\n",
      "bill_amt3                   -0.014076\n",
      "bill_amt2                   -0.014193\n",
      "bill_amt1                   -0.019644\n",
      "marriage_2                  -0.030619\n",
      "age_range_30-39             -0.034819\n",
      "limit_range_150000-200000   -0.039851\n",
      "sex                         -0.039961\n",
      "education_0                 -0.045703\n",
      "limit_range_200000-250000   -0.047817\n",
      "education_1                 -0.051328\n",
      "pay_amt6                    -0.053183\n",
      "pay_amt5                    -0.055124\n",
      "pay_amt3                    -0.056250\n",
      "pay_amt4                    -0.056827\n",
      "pay_amt2                    -0.058579\n",
      "pay_amt1                    -0.072929\n",
      "limit_range_above 250000    -0.108863\n",
      "limit_bal                   -0.153520\n",
      "Name: next_month, dtype: float64\n"
     ]
    }
   ],
   "source": [
    "print(df3corr['next_month'].sort_values(ascending=False))"
   ]
  },
  {
   "cell_type": "code",
   "execution_count": 191,
   "metadata": {},
   "outputs": [],
   "source": [
    "from sklearn.model_selection import train_test_split\n",
    "x= df3.drop(['next_month'],axis=1)\n",
    "y=df3['next_month']\n",
    "\n",
    "xtrain,xtest,ytrain,ytest = train_test_split(x,y,test_size=0.3,random_state=29)"
   ]
  },
  {
   "cell_type": "code",
   "execution_count": 193,
   "metadata": {},
   "outputs": [
    {
     "data": {
      "text/plain": [
       "RandomForestClassifier(max_depth=15, max_features=10, min_samples_leaf=3,\n",
       "                       min_samples_split=3, n_estimators=150)"
      ]
     },
     "execution_count": 193,
     "metadata": {},
     "output_type": "execute_result"
    }
   ],
   "source": [
    "from sklearn.ensemble import RandomForestClassifier\n",
    "model = RandomForestClassifier(n_estimators=150,max_depth=15,min_samples_split=3,min_samples_leaf=3,max_features=10)\n",
    "\n",
    "model.fit(xtrain,ytrain)"
   ]
  },
  {
   "cell_type": "code",
   "execution_count": 194,
   "metadata": {},
   "outputs": [
    {
     "data": {
      "text/plain": [
       "0.8185555555555556"
      ]
     },
     "execution_count": 194,
     "metadata": {},
     "output_type": "execute_result"
    }
   ],
   "source": [
    "model.score(xtest,ytest)"
   ]
  },
  {
   "cell_type": "code",
   "execution_count": 196,
   "metadata": {},
   "outputs": [
    {
     "name": "stderr",
     "output_type": "stream",
     "text": [
      "C:\\Users\\austin\\anaconda3\\lib\\site-packages\\sklearn\\model_selection\\_search.py:847: FutureWarning: The parameter 'iid' is deprecated in 0.22 and will be removed in 0.24.\n",
      "  warnings.warn(\n"
     ]
    },
    {
     "data": {
      "text/plain": [
       "({'max_depth': 3,\n",
       "  'max_features': 7,\n",
       "  'min_samples_leaf': 10,\n",
       "  'n_estimators': 130},\n",
       " 0.8212380952380953)"
      ]
     },
     "execution_count": 196,
     "metadata": {},
     "output_type": "execute_result"
    }
   ],
   "source": [
    "from sklearn.ensemble import GradientBoostingClassifier\n",
    "from sklearn.model_selection import GridSearchCV\n",
    "param_test1 = {\n",
    " 'max_depth':range(3,10,2),\n",
    " 'min_samples_leaf':range(2,20,2),\n",
    " 'max_features':range(3,10,1),\n",
    "'n_estimators':range(100,200,10)\n",
    "}\n",
    "gsearch1 = GridSearchCV(estimator = GradientBoostingClassifier(), \n",
    "param_grid = param_test1, scoring='accuracy',n_jobs=-1,iid=False, cv=2)\n",
    "gsearch1.fit(xtrain,ytrain)\n",
    "gsearch1.best_params_, gsearch1.best_score_"
   ]
  },
  {
   "cell_type": "code",
   "execution_count": 213,
   "metadata": {},
   "outputs": [],
   "source": [
    "x_train,x_test,y_train,y_test = train_test_split(x,y,test_size=0.3,random_state=29)"
   ]
  },
  {
   "cell_type": "code",
   "execution_count": 214,
   "metadata": {},
   "outputs": [],
   "source": [
    "from sklearn.decomposition import PCA\n",
    "\n",
    "pca = PCA(n_components=20)\n",
    "x_train = pca.fit_transform(x_train)\n",
    "x_test = pca.transform(x_test)"
   ]
  },
  {
   "cell_type": "code",
   "execution_count": 228,
   "metadata": {},
   "outputs": [
    {
     "data": {
      "text/plain": [
       "GradientBoostingClassifier(max_features=7, min_samples_leaf=10,\n",
       "                           n_estimators=130)"
      ]
     },
     "execution_count": 228,
     "metadata": {},
     "output_type": "execute_result"
    }
   ],
   "source": [
    "\n",
    "model2 = GradientBoostingClassifier(n_estimators=130,max_depth=3,min_samples_leaf=10,max_features=7)\n",
    "\n",
    "model2.fit(xtrain,ytrain)"
   ]
  },
  {
   "cell_type": "code",
   "execution_count": 229,
   "metadata": {},
   "outputs": [
    {
     "name": "stdout",
     "output_type": "stream",
     "text": [
      "準確率:82.01%\n"
     ]
    }
   ],
   "source": [
    "score = model2.score(xtest, ytest)\n",
    "print (\"準確率:%.2f%%\" % (score * 100))"
   ]
  },
  {
   "cell_type": "code",
   "execution_count": null,
   "metadata": {},
   "outputs": [],
   "source": []
  },
  {
   "cell_type": "code",
   "execution_count": 230,
   "metadata": {},
   "outputs": [
    {
     "name": "stdout",
     "output_type": "stream",
     "text": [
      "Collecting pymysql\n",
      "  Downloading PyMySQL-0.10.1-py2.py3-none-any.whl (47 kB)\n",
      "Installing collected packages: pymysql\n",
      "Successfully installed pymysql-0.10.1\n"
     ]
    }
   ],
   "source": [
    "!pip install pymysql"
   ]
  },
  {
   "cell_type": "code",
   "execution_count": 231,
   "metadata": {},
   "outputs": [],
   "source": [
    "import pymysql\n"
   ]
  },
  {
   "cell_type": "code",
   "execution_count": 233,
   "metadata": {},
   "outputs": [],
   "source": [
    "conn = pymysql.connect(host='localhost', port=3306, user='root', passwd='gg9881234', db= 'pratice', charset='utf8')\n"
   ]
  },
  {
   "cell_type": "code",
   "execution_count": 243,
   "metadata": {},
   "outputs": [],
   "source": [
    "cursor = conn.cursor()"
   ]
  },
  {
   "cell_type": "code",
   "execution_count": 270,
   "metadata": {},
   "outputs": [
    {
     "data": {
      "text/plain": [
       "9"
      ]
     },
     "execution_count": 270,
     "metadata": {},
     "output_type": "execute_result"
    }
   ],
   "source": [
    "sql=(\"SELECT * FROM pratice.1194_players\")\n",
    "\n",
    "cursor.execute(sql)"
   ]
  },
  {
   "cell_type": "code",
   "execution_count": 272,
   "metadata": {},
   "outputs": [],
   "source": [
    "results = cursor.fetchall()"
   ]
  },
  {
   "cell_type": "code",
   "execution_count": 303,
   "metadata": {},
   "outputs": [],
   "source": [
    "def convert2Dataframe(data):\n",
    "    df10=pd.DataFrame(list(data),columns=[\"id1\",\"id2\"])\n",
    "    print(df10)"
   ]
  },
  {
   "cell_type": "code",
   "execution_count": 307,
   "metadata": {},
   "outputs": [],
   "source": [
    "df10 = pd.DataFrame(results,columns=['id1','id2'])"
   ]
  },
  {
   "cell_type": "code",
   "execution_count": 308,
   "metadata": {},
   "outputs": [
    {
     "data": {
      "text/html": [
       "<div>\n",
       "<style scoped>\n",
       "    .dataframe tbody tr th:only-of-type {\n",
       "        vertical-align: middle;\n",
       "    }\n",
       "\n",
       "    .dataframe tbody tr th {\n",
       "        vertical-align: top;\n",
       "    }\n",
       "\n",
       "    .dataframe thead th {\n",
       "        text-align: right;\n",
       "    }\n",
       "</style>\n",
       "<table border=\"1\" class=\"dataframe\">\n",
       "  <thead>\n",
       "    <tr style=\"text-align: right;\">\n",
       "      <th></th>\n",
       "      <th>id1</th>\n",
       "      <th>id2</th>\n",
       "    </tr>\n",
       "  </thead>\n",
       "  <tbody>\n",
       "    <tr>\n",
       "      <th>0</th>\n",
       "      <td>10</td>\n",
       "      <td>2</td>\n",
       "    </tr>\n",
       "    <tr>\n",
       "      <th>1</th>\n",
       "      <td>15</td>\n",
       "      <td>1</td>\n",
       "    </tr>\n",
       "    <tr>\n",
       "      <th>2</th>\n",
       "      <td>20</td>\n",
       "      <td>3</td>\n",
       "    </tr>\n",
       "    <tr>\n",
       "      <th>3</th>\n",
       "      <td>25</td>\n",
       "      <td>1</td>\n",
       "    </tr>\n",
       "    <tr>\n",
       "      <th>4</th>\n",
       "      <td>30</td>\n",
       "      <td>1</td>\n",
       "    </tr>\n",
       "    <tr>\n",
       "      <th>5</th>\n",
       "      <td>35</td>\n",
       "      <td>2</td>\n",
       "    </tr>\n",
       "    <tr>\n",
       "      <th>6</th>\n",
       "      <td>40</td>\n",
       "      <td>3</td>\n",
       "    </tr>\n",
       "    <tr>\n",
       "      <th>7</th>\n",
       "      <td>45</td>\n",
       "      <td>1</td>\n",
       "    </tr>\n",
       "    <tr>\n",
       "      <th>8</th>\n",
       "      <td>50</td>\n",
       "      <td>2</td>\n",
       "    </tr>\n",
       "  </tbody>\n",
       "</table>\n",
       "</div>"
      ],
      "text/plain": [
       "   id1  id2\n",
       "0   10    2\n",
       "1   15    1\n",
       "2   20    3\n",
       "3   25    1\n",
       "4   30    1\n",
       "5   35    2\n",
       "6   40    3\n",
       "7   45    1\n",
       "8   50    2"
      ]
     },
     "execution_count": 308,
     "metadata": {},
     "output_type": "execute_result"
    }
   ],
   "source": [
    "df10"
   ]
  },
  {
   "cell_type": "code",
   "execution_count": 309,
   "metadata": {},
   "outputs": [],
   "source": [
    "conn.close()"
   ]
  },
  {
   "cell_type": "code",
   "execution_count": 310,
   "metadata": {},
   "outputs": [
    {
     "data": {
      "text/html": [
       "<div>\n",
       "<style scoped>\n",
       "    .dataframe tbody tr th:only-of-type {\n",
       "        vertical-align: middle;\n",
       "    }\n",
       "\n",
       "    .dataframe tbody tr th {\n",
       "        vertical-align: top;\n",
       "    }\n",
       "\n",
       "    .dataframe thead th {\n",
       "        text-align: right;\n",
       "    }\n",
       "</style>\n",
       "<table border=\"1\" class=\"dataframe\">\n",
       "  <thead>\n",
       "    <tr style=\"text-align: right;\">\n",
       "      <th></th>\n",
       "      <th>id1</th>\n",
       "      <th>id2</th>\n",
       "    </tr>\n",
       "  </thead>\n",
       "  <tbody>\n",
       "    <tr>\n",
       "      <th>0</th>\n",
       "      <td>10</td>\n",
       "      <td>2</td>\n",
       "    </tr>\n",
       "    <tr>\n",
       "      <th>1</th>\n",
       "      <td>15</td>\n",
       "      <td>1</td>\n",
       "    </tr>\n",
       "    <tr>\n",
       "      <th>2</th>\n",
       "      <td>20</td>\n",
       "      <td>3</td>\n",
       "    </tr>\n",
       "    <tr>\n",
       "      <th>3</th>\n",
       "      <td>25</td>\n",
       "      <td>1</td>\n",
       "    </tr>\n",
       "    <tr>\n",
       "      <th>4</th>\n",
       "      <td>30</td>\n",
       "      <td>1</td>\n",
       "    </tr>\n",
       "    <tr>\n",
       "      <th>5</th>\n",
       "      <td>35</td>\n",
       "      <td>2</td>\n",
       "    </tr>\n",
       "    <tr>\n",
       "      <th>6</th>\n",
       "      <td>40</td>\n",
       "      <td>3</td>\n",
       "    </tr>\n",
       "    <tr>\n",
       "      <th>7</th>\n",
       "      <td>45</td>\n",
       "      <td>1</td>\n",
       "    </tr>\n",
       "    <tr>\n",
       "      <th>8</th>\n",
       "      <td>50</td>\n",
       "      <td>2</td>\n",
       "    </tr>\n",
       "  </tbody>\n",
       "</table>\n",
       "</div>"
      ],
      "text/plain": [
       "   id1  id2\n",
       "0   10    2\n",
       "1   15    1\n",
       "2   20    3\n",
       "3   25    1\n",
       "4   30    1\n",
       "5   35    2\n",
       "6   40    3\n",
       "7   45    1\n",
       "8   50    2"
      ]
     },
     "execution_count": 310,
     "metadata": {},
     "output_type": "execute_result"
    }
   ],
   "source": [
    "df10"
   ]
  },
  {
   "cell_type": "code",
   "execution_count": null,
   "metadata": {},
   "outputs": [],
   "source": []
  }
 ],
 "metadata": {
  "kernelspec": {
   "display_name": "Python 3",
   "language": "python",
   "name": "python3"
  },
  "language_info": {
   "codemirror_mode": {
    "name": "ipython",
    "version": 3
   },
   "file_extension": ".py",
   "mimetype": "text/x-python",
   "name": "python",
   "nbconvert_exporter": "python",
   "pygments_lexer": "ipython3",
   "version": "3.8.3"
  }
 },
 "nbformat": 4,
 "nbformat_minor": 4
}
